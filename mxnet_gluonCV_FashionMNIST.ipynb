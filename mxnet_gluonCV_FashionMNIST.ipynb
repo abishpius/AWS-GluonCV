{
 "cells": [
  {
   "cell_type": "markdown",
   "metadata": {
    "deletable": false,
    "editable": false,
    "nbgrader": {
     "cell_type": "markdown",
     "checksum": "5074b9d54a7c4c8dae2324b8cb78e503",
     "grade": false,
     "grade_id": "cell-fc0b22c123cbdd06",
     "locked": true,
     "schema_version": 3,
     "solution": false,
     "task": false
    }
   },
   "source": [
    "# Module 4 Assignment\n",
    "\n",
    "In this assignment, you'll use some of the key concepts from the module to create a neural network for image classification of items of clothing. Step one will be to normalize the input images, and you'll use NDArray operations to calculate the channel mean. You'll create a function to evaluate the performance of networks on the data, and construct a couple of different neural networks for image classification."
   ]
  },
  {
   "cell_type": "markdown",
   "metadata": {
    "deletable": false,
    "editable": false,
    "nbgrader": {
     "cell_type": "markdown",
     "checksum": "f2bccf9794a4c9efd92100928a3f022e",
     "grade": false,
     "grade_id": "cell-abb560c26ec49a12",
     "locked": true,
     "schema_version": 3,
     "solution": false,
     "task": false
    }
   },
   "source": [
    "## 0) Setup\n",
    "\n",
    "We start with a number of required imports and set the data paths."
   ]
  },
  {
   "cell_type": "code",
   "execution_count": 1,
   "metadata": {
    "deletable": false,
    "editable": false,
    "nbgrader": {
     "cell_type": "code",
     "checksum": "e397a0e3a9f2b4ad956a4b67efb70529",
     "grade": false,
     "grade_id": "cell-f6bddc494c867188",
     "locked": true,
     "schema_version": 3,
     "solution": false,
     "task": false
    }
   },
   "outputs": [],
   "source": [
    "from matplotlib import pyplot as plt\n",
    "import mxnet as mx\n",
    "from mxnet.gluon.data.vision import transforms\n",
    "from mxnet.gluon.data.vision import FashionMNIST\n",
    "import numpy as np\n",
    "import os\n",
    "from pathlib import Path\n",
    "from tqdm import tqdm"
   ]
  },
  {
   "cell_type": "code",
   "execution_count": 2,
   "metadata": {
    "deletable": false,
    "editable": false,
    "nbgrader": {
     "cell_type": "code",
     "checksum": "340f681667b511ce348ad946ab4617c9",
     "grade": false,
     "grade_id": "cell-5f7e8a74007e1017",
     "locked": true,
     "schema_version": 3,
     "solution": false,
     "task": false
    }
   },
   "outputs": [],
   "source": [
    "M4_DATA = Path(os.getenv('DATA_DIR', '../../data'), 'module_4')\n",
    "M4_IMAGES = Path(M4_DATA, 'images')\n",
    "M4_MODELS = Path(M4_DATA, 'models')"
   ]
  },
  {
   "cell_type": "markdown",
   "metadata": {
    "deletable": false,
    "editable": false,
    "nbgrader": {
     "cell_type": "markdown",
     "checksum": "bb710ee3e61851413d0efa8fa50e44b5",
     "grade": false,
     "grade_id": "cell-95f0a503b6239c30",
     "locked": true,
     "schema_version": 3,
     "solution": false,
     "task": false
    }
   },
   "source": [
    "## 1) Data (& NDArray Operations)\n",
    "\n",
    "We'll use the in-built dataset called `FashionMNIST` which is a variant of the commonly used `MNIST` dataset. It consists of 60,000 training images and 10,000 test images, and each image is a 28px by 28px greyscale image. We'll start by creating the `dataset` and visualize an example image."
   ]
  },
  {
   "cell_type": "code",
   "execution_count": 3,
   "metadata": {
    "deletable": false,
    "editable": false,
    "nbgrader": {
     "cell_type": "code",
     "checksum": "1ed040aeb4a6597a4b1b6732e5ea1758",
     "grade": false,
     "grade_id": "cell-ddb747acaf729e37",
     "locked": true,
     "schema_version": 3,
     "solution": false,
     "task": false
    }
   },
   "outputs": [],
   "source": [
    "test_dataset = FashionMNIST(train=False, root=M4_IMAGES).transform_first(transforms.ToTensor())"
   ]
  },
  {
   "cell_type": "code",
   "execution_count": 4,
   "metadata": {},
   "outputs": [
    {
     "data": {
      "text/plain": [
       "<matplotlib.image.AxesImage at 0x7fe9639dbe80>"
      ]
     },
     "execution_count": 4,
     "metadata": {},
     "output_type": "execute_result"
    },
    {
     "data": {
      "image/png": "[encoded data removed]",
      "text/plain": [
       "<Figure size 432x288 with 1 Axes>"
      ]
     },
     "metadata": {
      "needs_background": "light"
     },
     "output_type": "display_data"
    }
   ],
   "source": [
    "sample_idx = 123\n",
    "sample_data, sample_label = test_dataset[sample_idx]\n",
    "plt.imshow(sample_data[0].asnumpy())  # 0 for first and only channel (since greyscale)."
   ]
  },
  {
   "cell_type": "markdown",
   "metadata": {
    "deletable": false,
    "editable": false,
    "nbgrader": {
     "cell_type": "markdown",
     "checksum": "ed2ca106a69f67ee2e77786e0a54f4c8",
     "grade": false,
     "grade_id": "cell-cdac79c9b0e7354e",
     "locked": true,
     "schema_version": 3,
     "solution": false,
     "task": false
    }
   },
   "source": [
    "One important step before passing images to the network is normalization: i.e. shifting and scaling the pixel values so that they are zero-centered on average and have unit variance.\n",
    "\n",
    "One method of normalization is pixelwise, where each **pixel** should have a unit normal distribution of values. Another is channelwise, where each **channel** should have a unit normal distribution of values. \n",
    "\n",
    "One of the first steps in the pixelwise approach is to calculate an 'average image' from the dataset. Using a sample of 1024 images, you should now implement a function to calculate the average intensity for every pixel. You'd typically want to calculate this from all samples of the dataset, but 1024 samples will be sufficient for now."
   ]
  },
  {
   "cell_type": "code",
   "execution_count": 5,
   "metadata": {},
   "outputs": [
    {
     "name": "stdout",
     "output_type": "stream",
     "text": [
      "(1024, 1, 28, 28)\n"
     ]
    }
   ],
   "source": [
    "test_dataloader = mx.gluon.data.DataLoader(test_dataset, shuffle=False, batch_size=1024)\n",
    "for data, label in test_dataloader:\n",
    "    break\n",
    "print(data.shape)"
   ]
  },
  {
   "cell_type": "code",
   "execution_count": 90,
   "metadata": {
    "deletable": false,
    "nbgrader": {
     "cell_type": "code",
     "checksum": "028925a530e2ed4d602226963e5e3409",
     "grade": false,
     "grade_id": "cell-c347c7c9342cbeb1",
     "locked": false,
     "schema_version": 3,
     "solution": true,
     "task": false
    }
   },
   "outputs": [],
   "source": [
    "def get_average_image_from_batch(batch):\n",
    "    \"\"\"\n",
    "    Given a batch of images, this function should calculate the 'average image'.\n",
    "    \n",
    "    :param batch: batch of images in NCHW layout.\n",
    "    :type batch: mx.nd.NDArray\n",
    "    \n",
    "    :return: average image in CHW layout.\n",
    "    :rtype: mx.nd.NDArray\n",
    "    \"\"\"\n",
    "    avg = mx.ndarray.mean(data = batch, axis =(0))#exclude = True)\n",
    "    return avg\n",
    "    # YOUR CODE HERE\n",
    "    raise NotImplementedError()"
   ]
  },
  {
   "cell_type": "code",
   "execution_count": 91,
   "metadata": {
    "deletable": false,
    "editable": false,
    "nbgrader": {
     "cell_type": "code",
     "checksum": "7afa5949415bf47373e5760b8df699c3",
     "grade": true,
     "grade_id": "cell-1b3d8700f95a0e26",
     "locked": true,
     "points": 1,
     "schema_version": 3,
     "solution": false,
     "task": false
    }
   },
   "outputs": [
    {
     "data": {
      "text/plain": [
       "<matplotlib.image.AxesImage at 0x7fe963877518>"
      ]
     },
     "execution_count": 91,
     "metadata": {},
     "output_type": "execute_result"
    },
    {
     "data": {
      "image/png": "[encoded data removed]",
      "text/plain": [
       "<Figure size 432x288 with 1 Axes>"
      ]
     },
     "metadata": {
      "needs_background": "light"
     },
     "output_type": "display_data"
    }
   ],
   "source": [
    "average_image = get_average_image_from_batch(data)\n",
    "assert average_image.shape == (1, 28, 28)\n",
    "plt.imshow(average_image[0].asnumpy())  # 0 for first and only channel (since greyscale)."
   ]
  },
  {
   "cell_type": "code",
   "execution_count": 92,
   "metadata": {},
   "outputs": [
    {
     "data": {
      "text/plain": [
       "(1, 28, 28)"
      ]
     },
     "execution_count": 92,
     "metadata": {},
     "output_type": "execute_result"
    }
   ],
   "source": [
    "average_image.shape"
   ]
  },
  {
   "cell_type": "markdown",
   "metadata": {
    "deletable": false,
    "editable": false,
    "nbgrader": {
     "cell_type": "markdown",
     "checksum": "1c60c3d88653d4d13ddfc97a891d2041",
     "grade": false,
     "grade_id": "cell-8289081a2395a032",
     "locked": true,
     "schema_version": 3,
     "solution": false,
     "task": false
    }
   },
   "source": [
    "Using the average image that was calculated above, you should now implement a function to perform the pixelwise normalization."
   ]
  },
  {
   "cell_type": "code",
   "execution_count": 95,
   "metadata": {
    "deletable": false,
    "nbgrader": {
     "cell_type": "code",
     "checksum": "237357a2b5ce96f61e37e68a000aae79",
     "grade": false,
     "grade_id": "cell-970eddb5f76be1f0",
     "locked": false,
     "schema_version": 3,
     "solution": true,
     "task": false
    }
   },
   "outputs": [],
   "source": [
    "def subtract_average_image(sample, average_image):\n",
    "    \"\"\"\n",
    "    Given a sample images, this function should return a pixelwise normalized image,\n",
    "    using a pre-calculated average image.\n",
    "    \n",
    "    :param sample: sample image in CHW layout.\n",
    "    :type sample: mx.nd.NDArray\n",
    "    :param average_image: average image of the dataset in CHW layout.\n",
    "    :type average_image: mx.nd.NDArray\n",
    "    \n",
    "    :return: pixelwise normalized image in CHW layout.\n",
    "    :rtype: mx.nd.NDArray\n",
    "    \"\"\"\n",
    "    return sample - average_image\n",
    "    # YOUR CODE HERE\n",
    "    raise NotImplementedError()"
   ]
  },
  {
   "cell_type": "code",
   "execution_count": 96,
   "metadata": {
    "deletable": false,
    "editable": false,
    "nbgrader": {
     "cell_type": "code",
     "checksum": "93a9e45c83be15ffd405137234e41c24",
     "grade": true,
     "grade_id": "cell-4f8cfd20e9027638",
     "locked": true,
     "points": 1,
     "schema_version": 3,
     "solution": false,
     "task": false
    }
   },
   "outputs": [
    {
     "data": {
      "text/plain": [
       "<matplotlib.image.AxesImage at 0x7fe961075978>"
      ]
     },
     "execution_count": 96,
     "metadata": {},
     "output_type": "execute_result"
    },
    {
     "data": {
      "image/png": "[encoded data removed]",
      "text/plain": [
       "<Figure size 432x288 with 1 Axes>"
      ]
     },
     "metadata": {
      "needs_background": "light"
     },
     "output_type": "display_data"
    }
   ],
   "source": [
    "normalized_sample_data = subtract_average_image(sample_data, average_image)\n",
    "assert normalized_sample_data.shape == (1, 28, 28)\n",
    "np.testing.assert_array_almost_equal(normalized_sample_data.asnumpy(), (sample_data - average_image).asnumpy())\n",
    "plt.imshow(normalized_sample_data[0].asnumpy())  # 0 for first and only channel (since greyscale)."
   ]
  },
  {
   "cell_type": "markdown",
   "metadata": {},
   "source": [
    "You've now created a transform for pixelwise normalization! As mentioned previously, another common method for normalization is channelwise normalization. Complete the following function to calculate the channel averages from a batch of multi-channel inputs.\n",
    "\n",
    "Note: although the image from our dataset only have one channel, your function should support cases where there are more than one channel (e.g. RGB images).\n",
    "\n",
    "**Hint**: Check out the `axis` (or `dim`) arguments on MXNet NDArray functions."
   ]
  },
  {
   "cell_type": "code",
   "execution_count": 191,
   "metadata": {
    "deletable": false,
    "nbgrader": {
     "cell_type": "code",
     "checksum": "a20aa5394fbb2a4d50af68667ed995c6",
     "grade": false,
     "grade_id": "cell-d2bd82c63c0c28c9",
     "locked": false,
     "schema_version": 3,
     "solution": true,
     "task": false
    }
   },
   "outputs": [],
   "source": [
    "def get_channel_average_from_batch(batch):\n",
    "    \"\"\"\n",
    "    Given a batch of images, this function should return the\n",
    "    average value for each channel across the images of the batch.\n",
    "    \n",
    "    :param batch: batch of images in NCHW layout.\n",
    "    :type batch: mx.nd.NDArray\n",
    "    \n",
    "    :return: channel averages in C layout.\n",
    "    :rtype: mx.nd.NDArray\n",
    "    \"\"\"\n",
    "    avg = mx.ndarray.mean(data = batch, axis = (0,1,2,3))\n",
    "    return avg\n",
    "    # YOUR CODE HERE\n",
    "    raise NotImplementedError() "
   ]
  },
  {
   "cell_type": "code",
   "execution_count": 192,
   "metadata": {
    "deletable": false,
    "editable": false,
    "nbgrader": {
     "cell_type": "code",
     "checksum": "61ce9104b23fdb0b51a498914c9375b3",
     "grade": true,
     "grade_id": "cell-1132428ff435fdff",
     "locked": true,
     "points": 1,
     "schema_version": 3,
     "solution": false,
     "task": false
    }
   },
   "outputs": [
    {
     "name": "stdout",
     "output_type": "stream",
     "text": [
      "0.28757906\n"
     ]
    },
    {
     "ename": "AssertionError",
     "evalue": "\nArrays are not almost equal to 6 decimals\n\n(shapes (4,), (1,) mismatch)\n x: array([1., 2., 3., 4.], dtype=float32)\n y: array([2.5], dtype=float32)",
     "output_type": "error",
     "traceback": [
      "\u001b[0;31m---------------------------------------------------------------------------\u001b[0m",
      "\u001b[0;31mAssertionError\u001b[0m                            Traceback (most recent call last)",
      "\u001b[0;32m<ipython-input-192-b6d401d52459>\u001b[0m in \u001b[0;36m<module>\u001b[0;34m\u001b[0m\n\u001b[1;32m      7\u001b[0m \u001b[0mtest_input\u001b[0m \u001b[0;34m=\u001b[0m \u001b[0mmx\u001b[0m\u001b[0;34m.\u001b[0m\u001b[0mnd\u001b[0m\u001b[0;34m.\u001b[0m\u001b[0mreshape\u001b[0m\u001b[0;34m(\u001b[0m\u001b[0mtest_averages\u001b[0m\u001b[0;34m,\u001b[0m \u001b[0mshape\u001b[0m\u001b[0;34m=\u001b[0m\u001b[0;34m(\u001b[0m\u001b[0;36m1\u001b[0m\u001b[0;34m,\u001b[0m\u001b[0;36m4\u001b[0m\u001b[0;34m,\u001b[0m\u001b[0;36m1\u001b[0m\u001b[0;34m,\u001b[0m\u001b[0;36m1\u001b[0m\u001b[0;34m)\u001b[0m\u001b[0;34m)\u001b[0m \u001b[0;34m*\u001b[0m \u001b[0mmx\u001b[0m\u001b[0;34m.\u001b[0m\u001b[0mnd\u001b[0m\u001b[0;34m.\u001b[0m\u001b[0mones\u001b[0m\u001b[0;34m(\u001b[0m\u001b[0mshape\u001b[0m\u001b[0;34m=\u001b[0m\u001b[0;34m(\u001b[0m\u001b[0;36m10\u001b[0m\u001b[0;34m,\u001b[0m\u001b[0;36m4\u001b[0m\u001b[0;34m,\u001b[0m\u001b[0;36m25\u001b[0m\u001b[0;34m,\u001b[0m\u001b[0;36m25\u001b[0m\u001b[0;34m)\u001b[0m\u001b[0;34m)\u001b[0m\u001b[0;34m\u001b[0m\u001b[0;34m\u001b[0m\u001b[0m\n\u001b[1;32m      8\u001b[0m \u001b[0mtest_channel_average\u001b[0m \u001b[0;34m=\u001b[0m \u001b[0mget_channel_average_from_batch\u001b[0m\u001b[0;34m(\u001b[0m\u001b[0mtest_input\u001b[0m\u001b[0;34m)\u001b[0m\u001b[0;34m\u001b[0m\u001b[0;34m\u001b[0m\u001b[0m\n\u001b[0;32m----> 9\u001b[0;31m \u001b[0mnp\u001b[0m\u001b[0;34m.\u001b[0m\u001b[0mtesting\u001b[0m\u001b[0;34m.\u001b[0m\u001b[0massert_array_almost_equal\u001b[0m\u001b[0;34m(\u001b[0m\u001b[0mtest_averages\u001b[0m\u001b[0;34m.\u001b[0m\u001b[0masnumpy\u001b[0m\u001b[0;34m(\u001b[0m\u001b[0;34m)\u001b[0m\u001b[0;34m,\u001b[0m \u001b[0mtest_channel_average\u001b[0m\u001b[0;34m.\u001b[0m\u001b[0masnumpy\u001b[0m\u001b[0;34m(\u001b[0m\u001b[0;34m)\u001b[0m\u001b[0;34m)\u001b[0m\u001b[0;34m\u001b[0m\u001b[0;34m\u001b[0m\u001b[0m\n\u001b[0m",
      "\u001b[0;32m/opt/conda/lib/python3.7/site-packages/numpy/testing/_private/utils.py\u001b[0m in \u001b[0;36massert_array_almost_equal\u001b[0;34m(x, y, decimal, err_msg, verbose)\u001b[0m\n\u001b[1;32m   1027\u001b[0m     assert_array_compare(compare, x, y, err_msg=err_msg, verbose=verbose,\n\u001b[1;32m   1028\u001b[0m              \u001b[0mheader\u001b[0m\u001b[0;34m=\u001b[0m\u001b[0;34m(\u001b[0m\u001b[0;34m'Arrays are not almost equal to %d decimals'\u001b[0m \u001b[0;34m%\u001b[0m \u001b[0mdecimal\u001b[0m\u001b[0;34m)\u001b[0m\u001b[0;34m,\u001b[0m\u001b[0;34m\u001b[0m\u001b[0;34m\u001b[0m\u001b[0m\n\u001b[0;32m-> 1029\u001b[0;31m              precision=decimal)\n\u001b[0m\u001b[1;32m   1030\u001b[0m \u001b[0;34m\u001b[0m\u001b[0m\n\u001b[1;32m   1031\u001b[0m \u001b[0;34m\u001b[0m\u001b[0m\n",
      "\u001b[0;32m/opt/conda/lib/python3.7/site-packages/numpy/testing/_private/utils.py\u001b[0m in \u001b[0;36massert_array_compare\u001b[0;34m(comparison, x, y, err_msg, verbose, header, precision, equal_nan, equal_inf)\u001b[0m\n\u001b[1;32m    762\u001b[0m                                 \u001b[0mverbose\u001b[0m\u001b[0;34m=\u001b[0m\u001b[0mverbose\u001b[0m\u001b[0;34m,\u001b[0m \u001b[0mheader\u001b[0m\u001b[0;34m=\u001b[0m\u001b[0mheader\u001b[0m\u001b[0;34m,\u001b[0m\u001b[0;34m\u001b[0m\u001b[0;34m\u001b[0m\u001b[0m\n\u001b[1;32m    763\u001b[0m                                 names=('x', 'y'), precision=precision)\n\u001b[0;32m--> 764\u001b[0;31m             \u001b[0;32mraise\u001b[0m \u001b[0mAssertionError\u001b[0m\u001b[0;34m(\u001b[0m\u001b[0mmsg\u001b[0m\u001b[0;34m)\u001b[0m\u001b[0;34m\u001b[0m\u001b[0;34m\u001b[0m\u001b[0m\n\u001b[0m\u001b[1;32m    765\u001b[0m \u001b[0;34m\u001b[0m\u001b[0m\n\u001b[1;32m    766\u001b[0m         \u001b[0mflagged\u001b[0m \u001b[0;34m=\u001b[0m \u001b[0mbool_\u001b[0m\u001b[0;34m(\u001b[0m\u001b[0;32mFalse\u001b[0m\u001b[0;34m)\u001b[0m\u001b[0;34m\u001b[0m\u001b[0;34m\u001b[0m\u001b[0m\n",
      "\u001b[0;31mAssertionError\u001b[0m: \nArrays are not almost equal to 6 decimals\n\n(shapes (4,), (1,) mismatch)\n x: array([1., 2., 3., 4.], dtype=float32)\n y: array([2.5], dtype=float32)"
     ]
    }
   ],
   "source": [
    "channel_average = get_channel_average_from_batch(data).asscalar()\n",
    "print(channel_average)\n",
    "assert isinstance(channel_average, np.float32)\n",
    "np.testing.assert_almost_equal(channel_average, 0.28757906, decimal=5)\n",
    "\n",
    "test_averages = mx.nd.array([1,2,3,4])\n",
    "test_input = mx.nd.reshape(test_averages, shape=(1,4,1,1)) * mx.nd.ones(shape=(10,4,25,25))\n",
    "test_channel_average = get_channel_average_from_batch(test_input)\n",
    "np.testing.assert_array_almost_equal(test_averages.asnumpy(), test_channel_average.asnumpy())"
   ]
  },
  {
   "cell_type": "code",
   "execution_count": 197,
   "metadata": {},
   "outputs": [],
   "source": [
    "c = get_channel_average_from_batch(data)\n",
    "np.testing.assert_almost_equal(channel_average, 0.28757906, decimal=5)"
   ]
  },
  {
   "cell_type": "markdown",
   "metadata": {
    "deletable": false,
    "editable": false,
    "nbgrader": {
     "cell_type": "markdown",
     "checksum": "ebf52b1649339c3bc81609fd7d8eb8a6",
     "grade": false,
     "grade_id": "cell-2fea1fe63abd02d1",
     "locked": true,
     "schema_version": 3,
     "solution": false,
     "task": false
    }
   },
   "source": [
    "Using this channel average, we can use the `Normalize` transform to apply this to all samples in our dataset as they are loaded."
   ]
  },
  {
   "cell_type": "code",
   "execution_count": 198,
   "metadata": {
    "deletable": false,
    "editable": false,
    "nbgrader": {
     "cell_type": "code",
     "checksum": "7c8c7678fffe3316b1d26df20948d9d3",
     "grade": false,
     "grade_id": "cell-1406cf76c0bf2d9c",
     "locked": true,
     "schema_version": 3,
     "solution": false,
     "task": false
    }
   },
   "outputs": [],
   "source": [
    "channel_std = 0.31\n",
    "transform = transforms.Compose([\n",
    "    transforms.ToTensor(),\n",
    "    transforms.Normalize(channel_average, channel_std)\n",
    "])"
   ]
  },
  {
   "cell_type": "code",
   "execution_count": 199,
   "metadata": {
    "deletable": false,
    "editable": false,
    "nbgrader": {
     "cell_type": "code",
     "checksum": "997486e117bb21d91c6c6d2e1793d5e1",
     "grade": false,
     "grade_id": "cell-09b598f5df48310e",
     "locked": true,
     "schema_version": 3,
     "solution": false,
     "task": false
    }
   },
   "outputs": [],
   "source": [
    "train_dataset = FashionMNIST(train=True, root=M4_IMAGES).transform_first(transform)\n",
    "test_dataset = FashionMNIST(train=False, root=M4_IMAGES).transform_first(transform)\n",
    "train_dataloader = mx.gluon.data.DataLoader(train_dataset, shuffle=True, batch_size=128)\n",
    "test_dataloader = mx.gluon.data.DataLoader(train_dataset, shuffle=False, batch_size=128)"
   ]
  },
  {
   "cell_type": "markdown",
   "metadata": {},
   "source": [
    "## 2) Metrics\n",
    "\n",
    "In this section, you'll implement a function to test the prediction quality of networks. Using `Accuracy` as the evaluation metric, complete the following function that takes a network and a dataloader (with test data) and returns an MXNet Metric that has been updated with labels and predictions. We'll use this function in the next section, when we train classification networks.\n",
    "\n",
    "**Hint**: You'll find classes in the `mxnet.metric` subpackage useful for this task."
   ]
  },
  {
   "cell_type": "code",
   "execution_count": 227,
   "metadata": {
    "deletable": false,
    "nbgrader": {
     "cell_type": "code",
     "checksum": "648cf62a617935ea6d929c14af92eb8b",
     "grade": false,
     "grade_id": "cell-5fab64bc4b4aa8dc",
     "locked": false,
     "schema_version": 3,
     "solution": true,
     "task": false
    }
   },
   "outputs": [],
   "source": [
    "def calculate_accuracy(network, dataloader):\n",
    "    \"\"\"\n",
    "    Calculates accuracy of the network on the data given by the dataloader.\n",
    "    \n",
    "    :param network: network to be tested\n",
    "    :type network: mx.gluon.Block\n",
    "    :param dataloader: dataloader for test data\n",
    "    :type dataloader: mx.gluon.data.DataLoader\n",
    "    \n",
    "    :return: updated metric\n",
    "    :rtype: mx.metric.EvalMetric\n",
    "    \"\"\"\n",
    "    from mxnet import metric\n",
    "    accuracy=mx.metric.Accuracy(axis=1, name='accuracy')\n",
    "    # YOUR CODE HERE\n",
    "    #raise NotImplementedError()\n",
    "    for data, labels in tqdm(dataloader):\n",
    "        preds = network(data)\n",
    "        \n",
    "        accuracy.update(labels,preds)\n",
    "        #accuracy.reset()\n",
    "        #raise NotImplementedError()\n",
    "    return accuracy"
   ]
  },
  {
   "cell_type": "code",
   "execution_count": 228,
   "metadata": {
    "deletable": false,
    "editable": false,
    "nbgrader": {
     "cell_type": "code",
     "checksum": "2a5f1bac4bcf9a3e81d52ea269a61070",
     "grade": true,
     "grade_id": "cell-56296ecc0573751e",
     "locked": true,
     "points": 2,
     "schema_version": 3,
     "solution": false,
     "task": false
    }
   },
   "outputs": [
    {
     "name": "stderr",
     "output_type": "stream",
     "text": [
      "\n",
      "  0%|          | 0/469 [00:00<?, ?it/s]\u001b[A\n",
      "  0%|          | 2/469 [00:00<00:46, 10.07it/s]\u001b[A\n",
      "  1%|          | 3/469 [00:00<00:46,  9.97it/s]\u001b[A\n",
      "  1%|          | 4/469 [00:00<00:46,  9.94it/s]\u001b[A\n",
      "  1%|▏         | 6/469 [00:00<00:46, 10.01it/s]\u001b[A\n",
      "  1%|▏         | 7/469 [00:00<00:46, 10.01it/s]\u001b[A\n",
      "  2%|▏         | 9/469 [00:00<00:39, 11.62it/s]\u001b[A\n",
      "  2%|▏         | 11/469 [00:01<00:41, 11.08it/s]\u001b[A\n",
      "  3%|▎         | 13/469 [00:01<00:42, 10.75it/s]\u001b[A\n",
      "  3%|▎         | 15/469 [00:01<00:43, 10.55it/s]\u001b[A\n",
      "  4%|▎         | 17/469 [00:01<00:43, 10.45it/s]\u001b[A\n",
      "  4%|▍         | 19/469 [00:01<00:37, 12.03it/s]\u001b[A\n",
      "  4%|▍         | 21/469 [00:01<00:39, 11.42it/s]\u001b[A\n",
      "  5%|▍         | 23/469 [00:02<00:40, 11.01it/s]\u001b[A\n",
      "  5%|▌         | 25/469 [00:02<00:35, 12.55it/s]\u001b[A\n",
      "  6%|▌         | 27/469 [00:02<00:37, 11.75it/s]\u001b[A\n",
      "  6%|▌         | 29/469 [00:02<00:39, 11.23it/s]\u001b[A\n",
      "  7%|▋         | 31/469 [00:02<00:34, 12.73it/s]\u001b[A\n",
      "  7%|▋         | 33/469 [00:02<00:36, 11.85it/s]\u001b[A\n",
      "  7%|▋         | 35/469 [00:03<00:38, 11.29it/s]\u001b[A\n",
      "  8%|▊         | 37/469 [00:03<00:33, 12.83it/s]\u001b[A\n",
      "  8%|▊         | 39/469 [00:03<00:36, 11.92it/s]\u001b[A\n",
      "  9%|▊         | 41/469 [00:03<00:37, 11.32it/s]\u001b[A\n",
      "  9%|▉         | 43/469 [00:03<00:33, 12.82it/s]\u001b[A\n",
      " 10%|▉         | 45/469 [00:03<00:35, 11.98it/s]\u001b[A\n",
      " 10%|█         | 47/469 [00:04<00:37, 11.31it/s]\u001b[A\n",
      " 10%|█         | 49/469 [00:04<00:32, 12.92it/s]\u001b[A\n",
      " 11%|█         | 51/469 [00:04<00:34, 11.95it/s]\u001b[A\n",
      " 11%|█▏        | 53/469 [00:04<00:31, 13.37it/s]\u001b[A\n",
      " 12%|█▏        | 55/469 [00:04<00:34, 12.16it/s]\u001b[A\n",
      " 12%|█▏        | 57/469 [00:04<00:35, 11.50it/s]\u001b[A\n",
      " 13%|█▎        | 59/469 [00:05<00:37, 11.06it/s]\u001b[A\n",
      " 13%|█▎        | 61/469 [00:05<00:32, 12.60it/s]\u001b[A\n",
      " 13%|█▎        | 63/469 [00:05<00:34, 11.70it/s]\u001b[A\n",
      " 14%|█▍        | 65/469 [00:05<00:36, 11.21it/s]\u001b[A\n",
      " 14%|█▍        | 67/469 [00:05<00:36, 10.87it/s]\u001b[A\n",
      " 15%|█▍        | 69/469 [00:05<00:32, 12.40it/s]\u001b[A\n",
      " 15%|█▌        | 71/469 [00:06<00:34, 11.59it/s]\u001b[A\n",
      " 16%|█▌        | 73/469 [00:06<00:35, 11.19it/s]\u001b[A\n",
      " 16%|█▌        | 75/469 [00:06<00:31, 12.71it/s]\u001b[A\n",
      " 16%|█▋        | 77/469 [00:06<00:32, 11.90it/s]\u001b[A\n",
      " 17%|█▋        | 79/469 [00:06<00:34, 11.27it/s]\u001b[A\n",
      " 17%|█▋        | 81/469 [00:06<00:30, 12.80it/s]\u001b[A\n",
      " 18%|█▊        | 83/469 [00:07<00:32, 11.90it/s]\u001b[A\n",
      " 18%|█▊        | 85/469 [00:07<00:33, 11.31it/s]\u001b[A\n",
      " 19%|█▊        | 87/469 [00:07<00:29, 12.84it/s]\u001b[A\n",
      " 19%|█▉        | 89/469 [00:07<00:31, 11.92it/s]\u001b[A\n",
      " 19%|█▉        | 91/469 [00:07<00:33, 11.32it/s]\u001b[A\n",
      " 20%|█▉        | 93/469 [00:07<00:29, 12.81it/s]\u001b[A\n",
      " 20%|██        | 95/469 [00:08<00:31, 11.93it/s]\u001b[A\n",
      " 21%|██        | 97/469 [00:08<00:32, 11.33it/s]\u001b[A\n",
      " 21%|██        | 99/469 [00:08<00:28, 12.82it/s]\u001b[A\n",
      " 22%|██▏       | 101/469 [00:08<00:31, 11.83it/s]\u001b[A\n",
      " 22%|██▏       | 103/469 [00:08<00:32, 11.29it/s]\u001b[A\n",
      " 22%|██▏       | 105/469 [00:08<00:33, 10.93it/s]\u001b[A\n",
      " 23%|██▎       | 107/469 [00:09<00:29, 12.47it/s]\u001b[A\n",
      " 23%|██▎       | 109/469 [00:09<00:30, 11.76it/s]\u001b[A\n",
      " 24%|██▎       | 111/469 [00:09<00:32, 11.18it/s]\u001b[A\n",
      " 24%|██▍       | 113/469 [00:09<00:27, 12.79it/s]\u001b[A\n",
      " 25%|██▍       | 115/469 [00:09<00:29, 11.87it/s]\u001b[A\n",
      " 25%|██▍       | 117/469 [00:09<00:26, 13.32it/s]\u001b[A\n",
      " 25%|██▌       | 119/469 [00:10<00:28, 12.25it/s]\u001b[A\n",
      " 26%|██▌       | 121/469 [00:10<00:30, 11.49it/s]\u001b[A\n",
      " 26%|██▌       | 123/469 [00:10<00:31, 11.03it/s]\u001b[A\n",
      " 27%|██▋       | 125/469 [00:10<00:27, 12.57it/s]\u001b[A\n",
      " 27%|██▋       | 127/469 [00:10<00:29, 11.77it/s]\u001b[A\n",
      " 28%|██▊       | 129/469 [00:10<00:30, 11.22it/s]\u001b[A\n",
      " 28%|██▊       | 131/469 [00:11<00:26, 12.72it/s]\u001b[A\n",
      " 28%|██▊       | 133/469 [00:11<00:28, 11.84it/s]\u001b[A\n",
      " 29%|██▉       | 135/469 [00:11<00:29, 11.29it/s]\u001b[A\n",
      " 29%|██▉       | 137/469 [00:11<00:25, 12.80it/s]\u001b[A\n",
      " 30%|██▉       | 139/469 [00:11<00:27, 11.90it/s]\u001b[A\n",
      " 30%|███       | 141/469 [00:11<00:28, 11.32it/s]\u001b[A\n",
      " 30%|███       | 143/469 [00:12<00:25, 12.82it/s]\u001b[A\n",
      " 31%|███       | 145/469 [00:12<00:27, 11.98it/s]\u001b[A\n",
      " 31%|███▏      | 147/469 [00:12<00:23, 13.42it/s]\u001b[A\n",
      " 32%|███▏      | 149/469 [00:12<00:26, 12.22it/s]\u001b[A\n",
      " 32%|███▏      | 151/469 [00:12<00:27, 11.56it/s]\u001b[A\n",
      " 33%|███▎      | 153/469 [00:12<00:28, 11.05it/s]\u001b[A\n",
      " 33%|███▎      | 155/469 [00:13<00:24, 12.67it/s]\u001b[A\n",
      " 33%|███▎      | 157/469 [00:13<00:26, 11.80it/s]\u001b[A\n",
      " 34%|███▍      | 159/469 [00:13<00:23, 13.26it/s]\u001b[A\n",
      " 34%|███▍      | 161/469 [00:13<00:25, 12.17it/s]\u001b[A\n",
      " 35%|███▍      | 163/469 [00:13<00:26, 11.49it/s]\u001b[A\n",
      " 35%|███▌      | 165/469 [00:13<00:23, 12.98it/s]\u001b[A\n",
      " 36%|███▌      | 167/469 [00:14<00:25, 12.00it/s]\u001b[A\n",
      " 36%|███▌      | 169/469 [00:14<00:26, 11.39it/s]\u001b[A\n",
      " 36%|███▋      | 171/469 [00:14<00:23, 12.88it/s]\u001b[A\n",
      " 37%|███▋      | 173/469 [00:14<00:24, 11.93it/s]\u001b[A\n",
      " 37%|███▋      | 175/469 [00:14<00:25, 11.34it/s]\u001b[A\n",
      " 38%|███▊      | 177/469 [00:15<00:26, 10.85it/s]\u001b[A\n",
      " 38%|███▊      | 179/469 [00:15<00:27, 10.64it/s]\u001b[A\n",
      " 39%|███▊      | 181/469 [00:15<00:23, 12.22it/s]\u001b[A\n",
      " 39%|███▉      | 183/469 [00:15<00:24, 11.47it/s]\u001b[A\n",
      " 39%|███▉      | 185/469 [00:15<00:25, 11.09it/s]\u001b[A\n",
      " 40%|███▉      | 187/469 [00:15<00:26, 10.76it/s]\u001b[A\n",
      " 40%|████      | 189/469 [00:16<00:22, 12.31it/s]\u001b[A\n",
      " 41%|████      | 191/469 [00:16<00:24, 11.52it/s]\u001b[A\n",
      " 41%|████      | 193/469 [00:16<00:24, 11.15it/s]\u001b[A\n",
      " 42%|████▏     | 195/469 [00:16<00:25, 10.78it/s]\u001b[A\n",
      " 42%|████▏     | 197/469 [00:16<00:22, 12.35it/s]\u001b[A\n",
      " 42%|████▏     | 199/469 [00:16<00:23, 11.67it/s]\u001b[A\n",
      " 43%|████▎     | 201/469 [00:17<00:24, 11.12it/s]\u001b[A\n",
      " 43%|████▎     | 203/469 [00:17<00:21, 12.65it/s]\u001b[A\n",
      " 44%|████▎     | 205/469 [00:17<00:22, 11.80it/s]\u001b[A\n",
      " 44%|████▍     | 207/469 [00:17<00:23, 11.26it/s]\u001b[A\n",
      " 45%|████▍     | 209/469 [00:17<00:20, 12.76it/s]\u001b[A\n",
      " 45%|████▍     | 211/469 [00:17<00:21, 11.95it/s]\u001b[A\n",
      " 45%|████▌     | 213/469 [00:18<00:22, 11.30it/s]\u001b[A\n",
      " 46%|████▌     | 215/469 [00:18<00:19, 12.90it/s]\u001b[A\n",
      " 46%|████▋     | 217/469 [00:18<00:21, 11.94it/s]\u001b[A\n",
      " 47%|████▋     | 219/469 [00:18<00:22, 11.29it/s]\u001b[A\n",
      " 47%|████▋     | 221/469 [00:18<00:19, 12.90it/s]\u001b[A\n",
      " 48%|████▊     | 223/469 [00:18<00:20, 11.93it/s]\u001b[A\n",
      " 48%|████▊     | 225/469 [00:19<00:18, 13.37it/s]\u001b[A\n",
      " 48%|████▊     | 227/469 [00:19<00:19, 12.28it/s]\u001b[A\n",
      " 49%|████▉     | 229/469 [00:19<00:20, 11.52it/s]\u001b[A\n",
      " 49%|████▉     | 231/469 [00:19<00:18, 12.99it/s]\u001b[A\n",
      " 50%|████▉     | 233/469 [00:19<00:19, 12.01it/s]\u001b[A\n",
      " 50%|█████     | 235/469 [00:19<00:20, 11.40it/s]\u001b[A\n",
      " 51%|█████     | 237/469 [00:20<00:17, 12.93it/s]\u001b[A\n",
      " 51%|█████     | 239/469 [00:20<00:19, 11.97it/s]\u001b[A\n",
      " 51%|█████▏    | 241/469 [00:20<00:20, 11.35it/s]\u001b[A\n",
      " 52%|█████▏    | 243/469 [00:20<00:17, 12.85it/s]\u001b[A\n",
      " 52%|█████▏    | 245/469 [00:20<00:18, 11.93it/s]\u001b[A\n",
      " 53%|█████▎    | 247/469 [00:20<00:19, 11.34it/s]\u001b[A\n",
      " 53%|█████▎    | 249/469 [00:21<00:17, 12.83it/s]\u001b[A\n",
      " 54%|█████▎    | 251/469 [00:21<00:18, 11.85it/s]\u001b[A\n",
      " 54%|█████▍    | 253/469 [00:21<00:19, 11.36it/s]\u001b[A\n",
      " 54%|█████▍    | 255/469 [00:21<00:16, 12.86it/s]\u001b[A\n",
      " 55%|█████▍    | 257/469 [00:21<00:17, 11.94it/s]\u001b[A\n",
      " 55%|█████▌    | 259/469 [00:21<00:18, 11.34it/s]\u001b[A\n",
      " 56%|█████▌    | 261/469 [00:22<00:16, 12.84it/s]\u001b[A\n",
      " 56%|█████▌    | 263/469 [00:22<00:17, 11.92it/s]\u001b[A\n",
      " 57%|█████▋    | 265/469 [00:22<00:17, 11.34it/s]\u001b[A\n",
      " 57%|█████▋    | 267/469 [00:22<00:15, 12.87it/s]\u001b[A\n",
      " 57%|█████▋    | 269/469 [00:22<00:16, 11.98it/s]\u001b[A\n",
      " 58%|█████▊    | 271/469 [00:22<00:14, 13.42it/s]\u001b[A\n",
      " 58%|█████▊    | 273/469 [00:23<00:15, 12.27it/s]\u001b[A\n",
      " 59%|█████▊    | 275/469 [00:23<00:16, 11.55it/s]\u001b[A\n",
      " 59%|█████▉    | 277/469 [00:23<00:14, 13.04it/s]\u001b[A\n",
      " 59%|█████▉    | 279/469 [00:23<00:15, 12.08it/s]\u001b[A\n",
      " 60%|█████▉    | 281/469 [00:23<00:16, 11.39it/s]\u001b[A\n",
      " 60%|██████    | 283/469 [00:23<00:14, 12.88it/s]\u001b[A\n",
      " 61%|██████    | 285/469 [00:24<00:15, 11.95it/s]\u001b[A\n",
      " 61%|██████    | 287/469 [00:24<00:16, 11.36it/s]\u001b[A\n",
      " 62%|██████▏   | 289/469 [00:24<00:13, 12.89it/s]\u001b[A\n",
      " 62%|██████▏   | 291/469 [00:24<00:14, 11.98it/s]\u001b[A\n",
      " 62%|██████▏   | 293/469 [00:24<00:15, 11.32it/s]\u001b[A\n",
      " 63%|██████▎   | 295/469 [00:24<00:13, 12.84it/s]\u001b[A\n",
      " 63%|██████▎   | 297/469 [00:25<00:14, 11.93it/s]\u001b[A\n",
      " 64%|██████▍   | 299/469 [00:25<00:15, 11.33it/s]\u001b[A\n",
      " 64%|██████▍   | 301/469 [00:25<00:13, 12.86it/s]\u001b[A\n",
      " 65%|██████▍   | 303/469 [00:25<00:13, 11.94it/s]\u001b[A\n",
      " 65%|██████▌   | 305/469 [00:25<00:14, 11.34it/s]\u001b[A\n",
      " 65%|██████▌   | 307/469 [00:25<00:12, 12.82it/s]\u001b[A\n",
      " 66%|██████▌   | 309/469 [00:26<00:13, 11.90it/s]\u001b[A\n",
      " 66%|██████▋   | 311/469 [00:26<00:13, 11.33it/s]\u001b[A\n",
      " 67%|██████▋   | 313/469 [00:26<00:12, 12.83it/s]\u001b[A\n",
      " 67%|██████▋   | 315/469 [00:26<00:12, 11.92it/s]\u001b[A\n",
      " 68%|██████▊   | 317/469 [00:26<00:13, 11.33it/s]\u001b[A\n",
      " 68%|██████▊   | 319/469 [00:26<00:11, 12.84it/s]\u001b[A\n",
      " 68%|██████▊   | 321/469 [00:26<00:12, 11.99it/s]\u001b[A\n",
      " 69%|██████▉   | 323/469 [00:27<00:12, 11.32it/s]\u001b[A\n",
      " 69%|██████▉   | 325/469 [00:27<00:11, 12.92it/s]\u001b[A\n",
      " 70%|██████▉   | 327/469 [00:27<00:11, 11.95it/s]\u001b[A\n",
      " 70%|███████   | 329/469 [00:27<00:10, 13.39it/s]\u001b[A\n",
      " 71%|███████   | 331/469 [00:27<00:11, 12.20it/s]\u001b[A\n",
      " 71%|███████   | 333/469 [00:27<00:11, 11.55it/s]\u001b[A\n",
      " 71%|███████▏  | 335/469 [00:28<00:10, 13.04it/s]\u001b[A\n",
      " 72%|███████▏  | 337/469 [00:28<00:10, 12.05it/s]\u001b[A\n",
      " 72%|███████▏  | 339/469 [00:28<00:11, 11.41it/s]\u001b[A\n",
      " 73%|███████▎  | 341/469 [00:28<00:09, 12.90it/s]\u001b[A\n",
      " 73%|███████▎  | 343/469 [00:28<00:10, 11.96it/s]\u001b[A\n",
      " 74%|███████▎  | 345/469 [00:28<00:10, 11.35it/s]\u001b[A\n",
      " 74%|███████▍  | 347/469 [00:29<00:09, 12.87it/s]\u001b[A\n",
      " 74%|███████▍  | 349/469 [00:29<00:10, 11.94it/s]\u001b[A\n",
      " 75%|███████▍  | 351/469 [00:29<00:10, 11.34it/s]\u001b[A\n",
      " 75%|███████▌  | 353/469 [00:29<00:10, 10.90it/s]\u001b[A\n",
      " 76%|███████▌  | 355/469 [00:29<00:09, 12.46it/s]\u001b[A\n",
      " 76%|███████▌  | 357/469 [00:30<00:09, 11.68it/s]\u001b[A\n",
      " 77%|███████▋  | 359/469 [00:30<00:09, 11.17it/s]\u001b[A\n",
      " 77%|███████▋  | 361/469 [00:30<00:10, 10.80it/s]\u001b[A\n",
      " 77%|███████▋  | 363/469 [00:30<00:08, 12.37it/s]\u001b[A\n",
      " 78%|███████▊  | 365/469 [00:30<00:08, 11.64it/s]\u001b[A\n",
      " 78%|███████▊  | 367/469 [00:30<00:09, 11.14it/s]\u001b[A\n",
      " 79%|███████▊  | 369/469 [00:31<00:07, 12.65it/s]\u001b[A\n",
      " 79%|███████▉  | 371/469 [00:31<00:08, 11.80it/s]\u001b[A\n",
      " 80%|███████▉  | 373/469 [00:31<00:08, 11.22it/s]\u001b[A\n",
      " 80%|███████▉  | 375/469 [00:31<00:08, 10.87it/s]\u001b[A\n",
      " 80%|████████  | 377/469 [00:31<00:07, 12.40it/s]\u001b[A\n",
      " 81%|████████  | 379/469 [00:31<00:07, 11.59it/s]\u001b[A\n",
      " 81%|████████  | 381/469 [00:32<00:07, 11.19it/s]\u001b[A\n",
      " 82%|████████▏ | 383/469 [00:32<00:06, 12.71it/s]\u001b[A\n",
      " 82%|████████▏ | 385/469 [00:32<00:07, 11.85it/s]\u001b[A\n",
      " 83%|████████▎ | 387/469 [00:32<00:07, 11.29it/s]\u001b[A\n",
      " 83%|████████▎ | 389/469 [00:32<00:07, 10.88it/s]\u001b[A\n",
      " 83%|████████▎ | 391/469 [00:32<00:06, 12.51it/s]\u001b[A\n",
      " 84%|████████▍ | 393/469 [00:33<00:06, 11.69it/s]\u001b[A\n",
      " 84%|████████▍ | 395/469 [00:33<00:06, 11.13it/s]\u001b[A\n",
      " 85%|████████▍ | 397/469 [00:33<00:05, 12.65it/s]\u001b[A\n",
      " 85%|████████▌ | 399/469 [00:33<00:05, 11.80it/s]\u001b[A\n",
      " 86%|████████▌ | 401/469 [00:33<00:06, 11.23it/s]\u001b[A\n",
      " 86%|████████▌ | 403/469 [00:33<00:06, 10.87it/s]\u001b[A\n",
      " 86%|████████▋ | 405/469 [00:34<00:05, 12.44it/s]\u001b[A\n",
      " 87%|████████▋ | 407/469 [00:34<00:05, 11.65it/s]\u001b[A\n",
      " 87%|████████▋ | 409/469 [00:34<00:05, 11.17it/s]\u001b[A\n",
      " 88%|████████▊ | 411/469 [00:34<00:04, 12.69it/s]\u001b[A\n",
      " 88%|████████▊ | 413/469 [00:34<00:04, 11.80it/s]\u001b[A\n",
      " 88%|████████▊ | 415/469 [00:34<00:04, 11.28it/s]\u001b[A\n",
      " 89%|████████▉ | 417/469 [00:35<00:04, 10.86it/s]\u001b[A\n",
      " 89%|████████▉ | 419/469 [00:35<00:04, 12.42it/s]\u001b[A\n",
      " 90%|████████▉ | 421/469 [00:35<00:04, 11.66it/s]\u001b[A\n",
      " 90%|█████████ | 423/469 [00:35<00:04, 11.16it/s]\u001b[A\n",
      " 91%|█████████ | 425/469 [00:35<00:03, 12.69it/s]\u001b[A\n",
      " 91%|█████████ | 427/469 [00:36<00:03, 11.82it/s]\u001b[A\n",
      " 91%|█████████▏| 429/469 [00:36<00:03, 11.27it/s]\u001b[A\n",
      " 92%|█████████▏| 431/469 [00:36<00:03, 10.88it/s]\u001b[A\n",
      " 92%|█████████▏| 433/469 [00:36<00:02, 12.43it/s]\u001b[A\n",
      " 93%|█████████▎| 435/469 [00:36<00:02, 11.70it/s]\u001b[A\n",
      " 93%|█████████▎| 437/469 [00:36<00:02, 11.15it/s]\u001b[A\n",
      " 94%|█████████▎| 439/469 [00:37<00:02, 12.67it/s]\u001b[A\n",
      " 94%|█████████▍| 441/469 [00:37<00:02, 11.74it/s]\u001b[A\n",
      " 94%|█████████▍| 443/469 [00:37<00:02, 11.29it/s]\u001b[A\n",
      " 95%|█████████▍| 445/469 [00:37<00:01, 12.80it/s]\u001b[A\n",
      " 95%|█████████▌| 447/469 [00:37<00:01, 11.81it/s]\u001b[A\n",
      " 96%|█████████▌| 449/469 [00:37<00:01, 11.27it/s]\u001b[A\n",
      " 96%|█████████▌| 451/469 [00:38<00:01, 10.92it/s]\u001b[A\n",
      " 97%|█████████▋| 453/469 [00:38<00:01, 10.64it/s]\u001b[A\n",
      " 97%|█████████▋| 455/469 [00:38<00:01, 10.43it/s]\u001b[A\n",
      " 97%|█████████▋| 457/469 [00:38<00:00, 12.01it/s]\u001b[A\n",
      " 98%|█████████▊| 459/469 [00:38<00:00, 11.40it/s]\u001b[A\n",
      " 98%|█████████▊| 461/469 [00:39<00:00, 10.97it/s]\u001b[A\n",
      " 99%|█████████▊| 463/469 [00:39<00:00, 10.70it/s]\u001b[A\n",
      " 99%|█████████▉| 465/469 [00:39<00:00, 12.24it/s]\u001b[A\n",
      "100%|█████████▉| 467/469 [00:39<00:00, 11.49it/s]\u001b[A\n",
      "100%|██████████| 469/469 [00:39<00:00, 11.14it/s]\u001b[A"
     ]
    },
    {
     "name": "stdout",
     "output_type": "stream",
     "text": [
      "('accuracy', 0.09815)\n"
     ]
    }
   ],
   "source": [
    "test_network = mx.gluon.nn.Dense(units=10)\n",
    "test_network.initialize()\n",
    "metric = calculate_accuracy(test_network, test_dataloader)\n",
    "print(metric.get())\n",
    "isinstance(metric, mx.metric.EvalMetric)\n",
    "assert metric.name == 'accuracy'\n",
    "assert metric.num_inst == 60000"
   ]
  },
  {
   "cell_type": "markdown",
   "metadata": {
    "deletable": false,
    "editable": false,
    "nbgrader": {
     "cell_type": "markdown",
     "checksum": "cb82044f0fc5c506b7e0ded91ed9b428",
     "grade": false,
     "grade_id": "cell-3f04789a1e05233e",
     "locked": true,
     "schema_version": 3,
     "solution": false,
     "task": false
    }
   },
   "source": [
    "## 3) Network"
   ]
  },
  {
   "cell_type": "markdown",
   "metadata": {},
   "source": [
    "In the section, you'll implement a couple of different image classification networks and train then on the `FashionMNIST` dataset. A `train` function is already provided in this assignment, because the focus will be on network construction."
   ]
  },
  {
   "cell_type": "code",
   "execution_count": 229,
   "metadata": {
    "deletable": false,
    "editable": false,
    "nbgrader": {
     "cell_type": "code",
     "checksum": "77f5bee4daf2e646e8b00a4cb792c9ab",
     "grade": false,
     "grade_id": "cell-027a252196f10f5c",
     "locked": true,
     "schema_version": 3,
     "solution": false,
     "task": false
    }
   },
   "outputs": [],
   "source": [
    "def train(network, dataloader):\n",
    "    softmax_cross_entropy = mx.gluon.loss.SoftmaxCrossEntropyLoss()\n",
    "    trainer = mx.gluon.Trainer(network.collect_params(), 'sgd', {'learning_rate': 0.1})\n",
    "    for data, label in tqdm(dataloader):\n",
    "        with mx.autograd.record():\n",
    "            output = network(data)\n",
    "            loss = softmax_cross_entropy(output, label)\n",
    "        loss.backward()\n",
    "        trainer.step(data.shape[0])"
   ]
  },
  {
   "cell_type": "markdown",
   "metadata": {
    "deletable": false,
    "editable": false,
    "nbgrader": {
     "cell_type": "markdown",
     "checksum": "3d078ccad213eb7f0540c0e0a7f4fd6f",
     "grade": false,
     "grade_id": "cell-8835b94cce73c05b",
     "locked": true,
     "schema_version": 3,
     "solution": false,
     "task": false
    }
   },
   "source": [
    "Your first model should be a sequential network, with 3 layers. You first layer should have 16 hidden units, the second should have 8 hidden units and the last layer should the correct number of output units for the classification task at hand. You should add ReLU activations on all hidden layers, but not the output layer. You should define `network` in the cell below.\n",
    "\n",
    "**Hint**: You'll find classes in the `mxnet.gluon.nn` subpackage useful for this task."
   ]
  },
  {
   "cell_type": "code",
   "execution_count": 236,
   "metadata": {
    "deletable": false,
    "nbgrader": {
     "cell_type": "code",
     "checksum": "d35d987cac115ee0c6fcde1ccf9395ab",
     "grade": false,
     "grade_id": "cell-60d2aed0c10748dc",
     "locked": false,
     "schema_version": 3,
     "solution": true,
     "task": false
    }
   },
   "outputs": [],
   "source": [
    "# YOUR CODE HERE\n",
    "from mxnet.gluon import nn\n",
    "network = nn.Sequential()\n",
    "network.add(nn.Dense(16, activation='relu'))\n",
    "network.add(nn.Dense(8, activation='relu'))\n",
    "network.add(nn.Dense(10))\n",
    "#raise NotImplementedError()"
   ]
  },
  {
   "cell_type": "code",
   "execution_count": 237,
   "metadata": {
    "deletable": false,
    "editable": false,
    "nbgrader": {
     "cell_type": "code",
     "checksum": "bac44090ed660601c9bb11488e4457e8",
     "grade": true,
     "grade_id": "cell-fab27ff9cbdb32f3",
     "locked": true,
     "points": 2,
     "schema_version": 3,
     "solution": false,
     "task": false
    }
   },
   "outputs": [],
   "source": [
    "assert isinstance(network, mx.gluon.nn.Sequential)\n",
    "assert len(network) == 3\n",
    "assert isinstance(network[0], mx.gluon.nn.Dense)\n",
    "assert network[0].act.name.endswith('relu')\n",
    "assert network[0].weight.shape[0] == 16\n",
    "assert isinstance(network[1], mx.gluon.nn.Dense)\n",
    "assert network[1].act.name.endswith('relu')\n",
    "assert network[1].weight.shape[0] == 8\n",
    "assert isinstance(network[2], mx.gluon.nn.Dense)\n",
    "assert network[2].act is None\n",
    "assert network[2].weight.shape[0] == 10"
   ]
  },
  {
   "cell_type": "markdown",
   "metadata": {
    "deletable": false,
    "editable": false,
    "nbgrader": {
     "cell_type": "markdown",
     "checksum": "a12fc8925d662b2379c9da051c6ad04d",
     "grade": false,
     "grade_id": "cell-0c105c466260d8df",
     "locked": true,
     "schema_version": 3,
     "solution": false,
     "task": false
    }
   },
   "source": [
    "With your network now defined, you should initialize its parameters using the Xavier method in the cell below.\n",
    "\n",
    "**Hint**: You'll find classes in the `mxnet.init` subpackage useful for this task."
   ]
  },
  {
   "cell_type": "code",
   "execution_count": 244,
   "metadata": {
    "deletable": false,
    "nbgrader": {
     "cell_type": "code",
     "checksum": "5034e223765daeb8ff11357a8385621d",
     "grade": false,
     "grade_id": "cell-fa9e3830a921ccc1",
     "locked": false,
     "schema_version": 3,
     "solution": true,
     "task": false
    }
   },
   "outputs": [],
   "source": [
    "# YOUR CODE HERE\n",
    "from mxnet import init\n",
    "initializer = init.Xavier()\n",
    "#raise NotImplementedError()\n",
    "network.initialize(initializer)"
   ]
  },
  {
   "cell_type": "code",
   "execution_count": 245,
   "metadata": {
    "deletable": false,
    "editable": false,
    "nbgrader": {
     "cell_type": "code",
     "checksum": "082079014c9879392a59ea4f9ba69b89",
     "grade": true,
     "grade_id": "cell-aab6f8ac1595ddf3",
     "locked": true,
     "points": 1,
     "schema_version": 3,
     "solution": false,
     "task": false
    }
   },
   "outputs": [],
   "source": [
    "assert isinstance(initializer, mx.initializer.Xavier)"
   ]
  },
  {
   "cell_type": "markdown",
   "metadata": {
    "deletable": false,
    "editable": false,
    "nbgrader": {
     "cell_type": "markdown",
     "checksum": "7b66a83fe4f502980f1aa332babea54a",
     "grade": false,
     "grade_id": "cell-71470ca5057ba4e7",
     "locked": true,
     "schema_version": 3,
     "solution": false,
     "task": false
    }
   },
   "source": [
    "We'll now check the network summary and see that the network has 12786 trainable parameters."
   ]
  },
  {
   "cell_type": "code",
   "execution_count": 246,
   "metadata": {
    "deletable": false,
    "editable": false,
    "nbgrader": {
     "cell_type": "code",
     "checksum": "59aea017252d590b7e5f1d59e4997cf6",
     "grade": false,
     "grade_id": "cell-a13e4f389f395b25",
     "locked": true,
     "schema_version": 3,
     "solution": false,
     "task": false
    }
   },
   "outputs": [
    {
     "name": "stdout",
     "output_type": "stream",
     "text": [
      "--------------------------------------------------------------------------------\n",
      "        Layer (type)                                Output Shape         Param #\n",
      "================================================================================\n",
      "               Input                           (1024, 1, 28, 28)               0\n",
      "        Activation-1                   <Symbol dense23_relu_fwd>               0\n",
      "        Activation-2                                  (1024, 16)               0\n",
      "             Dense-3                                  (1024, 16)           12560\n",
      "        Activation-4                   <Symbol dense24_relu_fwd>               0\n",
      "        Activation-5                                   (1024, 8)               0\n",
      "             Dense-6                                   (1024, 8)             136\n",
      "             Dense-7                                  (1024, 10)              90\n",
      "================================================================================\n",
      "Parameters in forward computation graph, duplicate included\n",
      "   Total params: 12786\n",
      "   Trainable params: 12786\n",
      "   Non-trainable params: 0\n",
      "Shared params in forward computation graph: 0\n",
      "Unique parameters in model: 12786\n",
      "--------------------------------------------------------------------------------\n"
     ]
    }
   ],
   "source": [
    "network.summary(data)"
   ]
  },
  {
   "cell_type": "markdown",
   "metadata": {
    "deletable": false,
    "editable": false,
    "nbgrader": {
     "cell_type": "markdown",
     "checksum": "d5770042162ac6a34dfd0eb57cef562a",
     "grade": false,
     "grade_id": "cell-f23f24b41797c698",
     "locked": true,
     "schema_version": 3,
     "solution": false,
     "task": false
    }
   },
   "source": [
    "And use the `calculate_accuracy` function defined in the previous section to evaluate the performance of this architecture."
   ]
  },
  {
   "cell_type": "code",
   "execution_count": 247,
   "metadata": {
    "deletable": false,
    "editable": false,
    "nbgrader": {
     "cell_type": "code",
     "checksum": "958cb52f6fea4c610ad6fb12b69c9cd6",
     "grade": false,
     "grade_id": "cell-15085d2bbec07611",
     "locked": true,
     "schema_version": 3,
     "solution": false,
     "task": false
    }
   },
   "outputs": [
    {
     "name": "stderr",
     "output_type": "stream",
     "text": [
      "\n",
      "  0%|          | 0/469 [00:00<?, ?it/s]\u001b[A\n",
      "  0%|          | 2/469 [00:00<00:24, 18.79it/s]\u001b[A\n",
      "  1%|          | 3/469 [00:00<00:31, 14.62it/s]\u001b[A\n",
      "  1%|          | 4/469 [00:00<00:48,  9.51it/s]\u001b[A\n",
      "  1%|          | 5/469 [00:00<00:48,  9.60it/s]\u001b[A\n",
      "  1%|▏         | 6/469 [00:00<00:48,  9.58it/s]\u001b[A\n",
      "  1%|▏         | 7/469 [00:00<00:47,  9.69it/s]\u001b[A\n",
      "  2%|▏         | 8/469 [00:00<00:47,  9.78it/s]\u001b[A\n",
      "  2%|▏         | 9/469 [00:00<00:46,  9.84it/s]\u001b[A\n",
      "  2%|▏         | 11/469 [00:01<00:46,  9.92it/s]\u001b[A\n",
      "  3%|▎         | 12/469 [00:01<00:58,  7.75it/s]\u001b[A\n",
      "  3%|▎         | 13/469 [00:01<00:55,  8.27it/s]\u001b[A\n",
      "  3%|▎         | 14/469 [00:01<00:52,  8.67it/s]\u001b[A\n",
      "  3%|▎         | 16/469 [00:01<00:50,  9.06it/s]\u001b[A\n",
      "  4%|▍         | 18/469 [00:01<00:48,  9.35it/s]\u001b[A\n",
      "  4%|▍         | 19/469 [00:02<00:47,  9.47it/s]\u001b[A\n",
      "  4%|▍         | 20/469 [00:02<00:46,  9.57it/s]\u001b[A\n",
      "  5%|▍         | 22/469 [00:02<00:46,  9.66it/s]\u001b[A\n",
      "  5%|▍         | 23/469 [00:02<00:58,  7.65it/s]\u001b[A\n",
      "  5%|▌         | 25/469 [00:02<00:53,  8.25it/s]\u001b[A\n",
      "  6%|▌         | 26/469 [00:02<00:51,  8.65it/s]\u001b[A\n",
      "  6%|▌         | 28/469 [00:03<00:48,  9.04it/s]\u001b[A\n",
      "  6%|▌         | 29/469 [00:03<00:47,  9.31it/s]\u001b[A\n",
      "  6%|▋         | 30/469 [00:03<00:46,  9.50it/s]\u001b[A\n",
      "  7%|▋         | 31/469 [00:03<00:45,  9.58it/s]\u001b[A\n",
      "  7%|▋         | 33/469 [00:03<00:44,  9.72it/s]\u001b[A\n",
      "  7%|▋         | 35/469 [00:03<00:44,  9.82it/s]\u001b[A\n",
      "  8%|▊         | 36/469 [00:03<00:56,  7.65it/s]\u001b[A\n",
      "  8%|▊         | 37/469 [00:04<00:52,  8.18it/s]\u001b[A\n",
      "  8%|▊         | 38/469 [00:04<00:50,  8.60it/s]\u001b[A\n",
      "  8%|▊         | 39/469 [00:04<01:00,  7.11it/s]\u001b[A\n",
      "  9%|▊         | 40/469 [00:04<00:55,  7.75it/s]\u001b[A\n",
      "  9%|▉         | 42/469 [00:04<00:51,  8.34it/s]\u001b[A\n",
      "  9%|▉         | 43/469 [00:04<00:48,  8.73it/s]\u001b[A\n",
      " 10%|▉         | 45/469 [00:04<00:46,  9.10it/s]\u001b[A\n",
      " 10%|▉         | 46/469 [00:05<00:45,  9.30it/s]\u001b[A\n",
      " 10%|█         | 48/469 [00:05<00:44,  9.51it/s]\u001b[A\n",
      " 10%|█         | 49/469 [00:05<00:43,  9.59it/s]\u001b[A\n",
      " 11%|█         | 51/469 [00:05<00:42,  9.73it/s]\u001b[A\n",
      " 11%|█▏        | 53/469 [00:05<00:42,  9.84it/s]\u001b[A\n",
      " 12%|█▏        | 54/469 [00:05<00:42,  9.82it/s]\u001b[A\n",
      " 12%|█▏        | 55/469 [00:05<00:42,  9.81it/s]\u001b[A\n",
      " 12%|█▏        | 57/469 [00:06<00:41,  9.89it/s]\u001b[A\n",
      " 12%|█▏        | 58/469 [00:06<00:41,  9.87it/s]\u001b[A\n",
      " 13%|█▎        | 60/469 [00:06<00:41,  9.88it/s]\u001b[A\n",
      " 13%|█▎        | 61/469 [00:06<00:52,  7.75it/s]\u001b[A\n",
      " 13%|█▎        | 62/469 [00:06<00:49,  8.27it/s]\u001b[A\n",
      " 14%|█▎        | 64/469 [00:06<00:46,  8.75it/s]\u001b[A\n",
      " 14%|█▍        | 65/469 [00:07<00:44,  9.04it/s]\u001b[A\n",
      " 14%|█▍        | 66/469 [00:07<00:43,  9.26it/s]\u001b[A\n",
      " 14%|█▍        | 68/469 [00:07<00:42,  9.52it/s]\u001b[A\n",
      " 15%|█▍        | 69/469 [00:07<00:41,  9.57it/s]\u001b[A\n",
      " 15%|█▌        | 71/469 [00:07<00:40,  9.72it/s]\u001b[A\n",
      " 15%|█▌        | 72/469 [00:07<00:40,  9.73it/s]\u001b[A\n",
      " 16%|█▌        | 73/469 [00:07<00:40,  9.71it/s]\u001b[A\n",
      " 16%|█▌        | 74/469 [00:08<00:51,  7.71it/s]\u001b[A\n",
      " 16%|█▌        | 75/469 [00:08<00:47,  8.23it/s]\u001b[A\n",
      " 16%|█▌        | 76/469 [00:08<00:45,  8.64it/s]\u001b[A\n",
      " 17%|█▋        | 78/469 [00:08<00:43,  9.02it/s]\u001b[A\n",
      " 17%|█▋        | 80/469 [00:08<00:41,  9.34it/s]\u001b[A\n",
      " 17%|█▋        | 81/469 [00:08<00:40,  9.48it/s]\u001b[A\n",
      " 18%|█▊        | 83/469 [00:08<00:40,  9.65it/s]\u001b[A\n",
      " 18%|█▊        | 84/469 [00:09<00:39,  9.70it/s]\u001b[A\n",
      " 18%|█▊        | 85/469 [00:09<00:39,  9.74it/s]\u001b[A\n",
      " 19%|█▊        | 87/469 [00:09<00:38,  9.85it/s]\u001b[A\n",
      " 19%|█▉        | 88/469 [00:09<00:38,  9.84it/s]\u001b[A\n",
      " 19%|█▉        | 90/469 [00:09<00:38,  9.93it/s]\u001b[A\n",
      " 19%|█▉        | 91/469 [00:09<00:38,  9.88it/s]\u001b[A\n",
      " 20%|█▉        | 93/469 [00:09<00:37,  9.95it/s]\u001b[A\n",
      " 20%|██        | 94/469 [00:10<00:37,  9.89it/s]\u001b[A\n",
      " 20%|██        | 96/469 [00:10<00:37,  9.95it/s]\u001b[A\n",
      " 21%|██        | 98/469 [00:10<00:37,  9.99it/s]\u001b[A\n",
      " 21%|██        | 99/469 [00:10<00:37,  9.93it/s]\u001b[A\n",
      " 21%|██▏       | 100/469 [00:10<00:37,  9.89it/s]\u001b[A\n",
      " 22%|██▏       | 102/469 [00:10<00:36,  9.97it/s]\u001b[A\n",
      " 22%|██▏       | 104/469 [00:11<00:36,  9.99it/s]\u001b[A\n",
      " 22%|██▏       | 105/469 [00:11<00:36,  9.92it/s]\u001b[A\n",
      " 23%|██▎       | 107/469 [00:11<00:36,  9.97it/s]\u001b[A\n",
      " 23%|██▎       | 109/469 [00:11<00:36,  9.99it/s]\u001b[A\n",
      " 23%|██▎       | 110/469 [00:11<00:36,  9.94it/s]\u001b[A\n",
      " 24%|██▍       | 112/469 [00:11<00:35,  9.96it/s]\u001b[A\n",
      " 24%|██▍       | 114/469 [00:12<00:35, 10.00it/s]\u001b[A\n",
      " 25%|██▍       | 115/469 [00:12<00:35,  9.94it/s]\u001b[A\n",
      " 25%|██▍       | 116/469 [00:12<00:35,  9.90it/s]\u001b[A\n",
      " 25%|██▌       | 118/469 [00:12<00:35,  9.96it/s]\u001b[A\n",
      " 26%|██▌       | 120/469 [00:12<00:34, 10.01it/s]\u001b[A\n",
      " 26%|██▌       | 122/469 [00:12<00:34, 10.00it/s]\u001b[A\n",
      " 26%|██▋       | 124/469 [00:13<00:34, 10.00it/s]\u001b[A\n",
      " 27%|██▋       | 125/469 [00:13<00:34,  9.93it/s]\u001b[A\n",
      " 27%|██▋       | 126/469 [00:13<00:34,  9.89it/s]\u001b[A\n",
      " 27%|██▋       | 128/469 [00:13<00:34,  9.94it/s]\u001b[A\n",
      " 28%|██▊       | 130/469 [00:13<00:33, 10.00it/s]\u001b[A\n",
      " 28%|██▊       | 132/469 [00:13<00:33, 10.01it/s]\u001b[A\n",
      " 29%|██▊       | 134/469 [00:14<00:33, 10.01it/s]\u001b[A\n",
      " 29%|██▉       | 136/469 [00:14<00:33, 10.00it/s]\u001b[A\n",
      " 29%|██▉       | 138/469 [00:14<00:33, 10.00it/s]\u001b[A\n",
      " 30%|██▉       | 140/469 [00:14<00:32, 10.00it/s]\u001b[A\n",
      " 30%|███       | 142/469 [00:14<00:32, 10.00it/s]\u001b[A\n",
      " 31%|███       | 144/469 [00:15<00:32, 10.00it/s]\u001b[A\n",
      " 31%|███       | 145/469 [00:15<00:32,  9.93it/s]\u001b[A\n",
      " 31%|███       | 146/469 [00:15<00:32,  9.89it/s]\u001b[A\n",
      " 31%|███▏      | 147/469 [00:15<00:41,  7.72it/s]\u001b[A\n",
      " 32%|███▏      | 149/469 [00:15<00:38,  8.29it/s]\u001b[A\n",
      " 32%|███▏      | 150/469 [00:15<00:36,  8.73it/s]\u001b[A\n",
      " 32%|███▏      | 151/469 [00:15<00:35,  9.07it/s]\u001b[A\n",
      " 32%|███▏      | 152/469 [00:15<00:34,  9.27it/s]\u001b[A\n",
      " 33%|███▎      | 154/469 [00:16<00:33,  9.50it/s]\u001b[A\n",
      " 33%|███▎      | 155/469 [00:16<00:32,  9.58it/s]\u001b[A\n",
      " 33%|███▎      | 157/469 [00:16<00:32,  9.72it/s]\u001b[A\n",
      " 34%|███▍      | 159/469 [00:16<00:31,  9.82it/s]\u001b[A\n",
      " 34%|███▍      | 160/469 [00:16<00:31,  9.81it/s]\u001b[A\n",
      " 35%|███▍      | 162/469 [00:16<00:31,  9.90it/s]\u001b[A\n",
      " 35%|███▍      | 163/469 [00:17<00:31,  9.87it/s]\u001b[A\n",
      " 35%|███▌      | 165/469 [00:17<00:30,  9.94it/s]\u001b[A\n",
      " 35%|███▌      | 166/469 [00:17<00:30,  9.90it/s]\u001b[A\n",
      " 36%|███▌      | 168/469 [00:17<00:30,  9.94it/s]\u001b[A\n",
      " 36%|███▌      | 169/469 [00:17<00:30,  9.89it/s]\u001b[A\n",
      " 36%|███▋      | 171/469 [00:17<00:29,  9.98it/s]\u001b[A\n",
      " 37%|███▋      | 172/469 [00:17<00:29,  9.99it/s]\u001b[A\n",
      " 37%|███▋      | 173/469 [00:18<00:29,  9.92it/s]\u001b[A\n",
      " 37%|███▋      | 175/469 [00:18<00:29,  9.97it/s]\u001b[A\n",
      " 38%|███▊      | 177/469 [00:18<00:29, 10.00it/s]\u001b[A\n",
      " 38%|███▊      | 178/469 [00:18<00:29,  9.98it/s]\u001b[A\n",
      " 38%|███▊      | 179/469 [00:18<00:29,  9.93it/s]\u001b[A\n",
      " 39%|███▊      | 181/469 [00:18<00:28,  9.96it/s]\u001b[A\n",
      " 39%|███▉      | 182/469 [00:18<00:28,  9.90it/s]\u001b[A\n",
      " 39%|███▉      | 184/469 [00:19<00:28,  9.95it/s]\u001b[A\n",
      " 39%|███▉      | 185/469 [00:19<00:28,  9.89it/s]\u001b[A\n",
      " 40%|███▉      | 186/469 [00:19<00:28,  9.85it/s]\u001b[A\n",
      " 40%|███▉      | 187/469 [00:19<00:36,  7.77it/s]\u001b[A\n",
      " 40%|████      | 188/469 [00:19<00:33,  8.32it/s]\u001b[A\n",
      " 40%|████      | 189/469 [00:19<00:32,  8.71it/s]\u001b[A\n",
      " 41%|████      | 191/469 [00:19<00:30,  9.07it/s]\u001b[A\n",
      " 41%|████      | 192/469 [00:20<00:30,  9.21it/s]\u001b[A\n",
      " 41%|████▏     | 194/469 [00:20<00:29,  9.44it/s]\u001b[A\n",
      " 42%|████▏     | 196/469 [00:20<00:28,  9.61it/s]\u001b[A\n",
      " 42%|████▏     | 198/469 [00:20<00:27,  9.76it/s]\u001b[A\n",
      " 42%|████▏     | 199/469 [00:20<00:27,  9.78it/s]\u001b[A\n",
      " 43%|████▎     | 200/469 [00:20<00:35,  7.67it/s]\u001b[A\n",
      " 43%|████▎     | 201/469 [00:21<00:32,  8.24it/s]\u001b[A\n",
      " 43%|████▎     | 202/469 [00:21<00:30,  8.65it/s]\u001b[A\n",
      " 43%|████▎     | 204/469 [00:21<00:29,  9.04it/s]\u001b[A\n",
      " 44%|████▎     | 205/469 [00:21<00:28,  9.26it/s]\u001b[A\n",
      " 44%|████▍     | 207/469 [00:21<00:27,  9.50it/s]\u001b[A\n",
      " 44%|████▍     | 208/469 [00:21<00:27,  9.58it/s]\u001b[A\n",
      " 45%|████▍     | 210/469 [00:21<00:26,  9.73it/s]\u001b[A\n",
      " 45%|████▌     | 212/469 [00:22<00:22, 11.47it/s]\u001b[A\n",
      " 46%|████▌     | 214/469 [00:22<00:23, 11.04it/s]\u001b[A\n",
      " 46%|████▌     | 216/469 [00:22<00:20, 12.51it/s]\u001b[A\n",
      " 46%|████▋     | 218/469 [00:22<00:21, 11.76it/s]\u001b[A\n",
      " 47%|████▋     | 220/469 [00:22<00:22, 11.22it/s]\u001b[A\n",
      " 47%|████▋     | 222/469 [00:22<00:22, 10.85it/s]\u001b[A\n",
      " 48%|████▊     | 224/469 [00:23<00:23, 10.58it/s]\u001b[A\n",
      " 48%|████▊     | 226/469 [00:23<00:23, 10.39it/s]\u001b[A\n",
      " 49%|████▊     | 228/469 [00:23<00:23, 10.27it/s]\u001b[A\n",
      " 49%|████▉     | 230/469 [00:23<00:23, 10.17it/s]\u001b[A\n",
      " 49%|████▉     | 232/469 [00:23<00:23, 10.14it/s]\u001b[A\n",
      " 50%|████▉     | 234/469 [00:24<00:23, 10.11it/s]\u001b[A\n",
      " 50%|█████     | 236/469 [00:24<00:23, 10.07it/s]\u001b[A\n",
      " 51%|█████     | 238/469 [00:24<00:23, 10.04it/s]\u001b[A\n",
      " 51%|█████     | 240/469 [00:24<00:22, 10.03it/s]\u001b[A\n",
      " 52%|█████▏    | 242/469 [00:24<00:22, 10.03it/s]\u001b[A\n",
      " 52%|█████▏    | 244/469 [00:25<00:22, 10.02it/s]\u001b[A\n",
      " 52%|█████▏    | 246/469 [00:25<00:22, 10.00it/s]\u001b[A\n",
      " 53%|█████▎    | 248/469 [00:25<00:22, 10.01it/s]\u001b[A\n",
      " 53%|█████▎    | 250/469 [00:25<00:21, 10.01it/s]\u001b[A\n",
      " 54%|█████▎    | 252/469 [00:25<00:21, 10.00it/s]\u001b[A\n",
      " 54%|█████▍    | 254/469 [00:26<00:21,  9.96it/s]\u001b[A\n",
      " 54%|█████▍    | 255/469 [00:26<00:21,  9.91it/s]\u001b[A\n",
      " 55%|█████▍    | 257/469 [00:26<00:21,  9.96it/s]\u001b[A\n",
      " 55%|█████▌    | 259/469 [00:26<00:20, 10.00it/s]\u001b[A\n",
      " 56%|█████▌    | 261/469 [00:26<00:20, 10.01it/s]\u001b[A\n",
      " 56%|█████▌    | 263/469 [00:27<00:20, 10.02it/s]\u001b[A\n",
      " 57%|█████▋    | 265/469 [00:27<00:20, 10.01it/s]\u001b[A\n",
      " 57%|█████▋    | 267/469 [00:27<00:20, 10.01it/s]\u001b[A\n",
      " 57%|█████▋    | 269/469 [00:27<00:19, 10.00it/s]\u001b[A\n",
      " 58%|█████▊    | 271/469 [00:27<00:19,  9.95it/s]\u001b[A\n",
      " 58%|█████▊    | 272/469 [00:27<00:19,  9.90it/s]\u001b[A\n",
      " 58%|█████▊    | 273/469 [00:28<00:25,  7.76it/s]\u001b[A\n",
      " 58%|█████▊    | 274/469 [00:28<00:23,  8.27it/s]\u001b[A\n",
      " 59%|█████▊    | 275/469 [00:28<00:22,  8.68it/s]\u001b[A\n",
      " 59%|█████▉    | 277/469 [00:28<00:21,  9.09it/s]\u001b[A\n",
      " 59%|█████▉    | 278/469 [00:28<00:20,  9.28it/s]\u001b[A\n",
      " 60%|█████▉    | 280/469 [00:28<00:19,  9.51it/s]\u001b[A\n",
      " 60%|█████▉    | 281/469 [00:28<00:19,  9.59it/s]\u001b[A\n",
      " 60%|██████    | 283/469 [00:29<00:19,  9.73it/s]\u001b[A\n",
      " 61%|██████    | 285/469 [00:29<00:18,  9.84it/s]\u001b[A\n",
      " 61%|██████    | 286/469 [00:29<00:18,  9.82it/s]\u001b[A\n",
      " 61%|██████▏   | 288/469 [00:29<00:18,  9.90it/s]\u001b[A\n",
      " 62%|██████▏   | 289/469 [00:29<00:18,  9.86it/s]\u001b[A\n",
      " 62%|██████▏   | 291/469 [00:29<00:17,  9.93it/s]\u001b[A\n",
      " 62%|██████▏   | 292/469 [00:30<00:17,  9.89it/s]\u001b[A\n",
      " 62%|██████▏   | 293/469 [00:30<00:17,  9.87it/s]\u001b[A\n",
      " 63%|██████▎   | 294/469 [00:30<00:17,  9.83it/s]\u001b[A\n",
      " 63%|██████▎   | 295/469 [00:30<00:22,  7.75it/s]\u001b[A\n",
      " 63%|██████▎   | 296/469 [00:30<00:20,  8.31it/s]\u001b[A\n",
      " 64%|██████▎   | 298/469 [00:30<00:19,  8.74it/s]\u001b[A\n",
      " 64%|██████▍   | 299/469 [00:30<00:18,  9.04it/s]\u001b[A\n",
      " 64%|██████▍   | 300/469 [00:30<00:18,  9.26it/s]\u001b[A\n",
      " 64%|██████▍   | 302/469 [00:31<00:17,  9.53it/s]\u001b[A\n",
      " 65%|██████▍   | 304/469 [00:31<00:17,  9.67it/s]\u001b[A\n",
      " 65%|██████▌   | 305/469 [00:31<00:16,  9.70it/s]\u001b[A\n",
      " 65%|██████▌   | 307/469 [00:31<00:16,  9.82it/s]\u001b[A\n",
      " 66%|██████▌   | 308/469 [00:31<00:16,  9.81it/s]\u001b[A\n",
      " 66%|██████▌   | 310/469 [00:31<00:16,  9.89it/s]\u001b[A\n",
      " 66%|██████▋   | 311/469 [00:32<00:16,  9.85it/s]\u001b[A\n",
      " 67%|██████▋   | 313/469 [00:32<00:15,  9.92it/s]\u001b[A\n",
      " 67%|██████▋   | 315/469 [00:32<00:15,  9.95it/s]\u001b[A\n",
      " 67%|██████▋   | 316/469 [00:32<00:15,  9.89it/s]\u001b[A\n",
      " 68%|██████▊   | 317/469 [00:32<00:19,  7.71it/s]\u001b[A\n",
      " 68%|██████▊   | 318/469 [00:32<00:18,  8.26it/s]\u001b[A\n",
      " 68%|██████▊   | 319/469 [00:32<00:17,  8.59it/s]\u001b[A\n",
      " 68%|██████▊   | 320/469 [00:33<00:20,  7.16it/s]\u001b[A\n",
      " 68%|██████▊   | 321/469 [00:33<00:18,  7.82it/s]\u001b[A\n",
      " 69%|██████▊   | 322/469 [00:33<00:17,  8.32it/s]\u001b[A\n",
      " 69%|██████▉   | 323/469 [00:33<00:16,  8.70it/s]\u001b[A\n",
      " 69%|██████▉   | 325/469 [00:33<00:15,  9.07it/s]\u001b[A\n",
      " 70%|██████▉   | 326/469 [00:33<00:15,  9.29it/s]\u001b[A\n",
      " 70%|██████▉   | 327/469 [00:33<00:18,  7.48it/s]\u001b[A\n",
      " 70%|██████▉   | 328/469 [00:34<00:17,  8.05it/s]\u001b[A\n",
      " 70%|███████   | 330/469 [00:34<00:16,  8.57it/s]\u001b[A\n",
      " 71%|███████   | 331/469 [00:34<00:15,  8.90it/s]\u001b[A\n",
      " 71%|███████   | 333/469 [00:34<00:14,  9.22it/s]\u001b[A\n",
      " 71%|███████   | 334/469 [00:34<00:14,  9.39it/s]\u001b[A\n",
      " 72%|███████▏  | 336/469 [00:34<00:13,  9.59it/s]\u001b[A\n",
      " 72%|███████▏  | 338/469 [00:35<00:13,  9.73it/s]\u001b[A\n",
      " 72%|███████▏  | 339/469 [00:35<00:13,  9.74it/s]\u001b[A\n",
      " 73%|███████▎  | 341/469 [00:35<00:13,  9.84it/s]\u001b[A\n",
      " 73%|███████▎  | 342/469 [00:35<00:13,  9.69it/s]\u001b[A\n",
      " 73%|███████▎  | 344/469 [00:35<00:12,  9.84it/s]\u001b[A\n",
      " 74%|███████▍  | 346/469 [00:35<00:12,  9.90it/s]\u001b[A\n",
      " 74%|███████▍  | 348/469 [00:36<00:12,  9.97it/s]\u001b[A\n",
      " 74%|███████▍  | 349/469 [00:36<00:12,  9.92it/s]\u001b[A\n",
      " 75%|███████▍  | 351/469 [00:36<00:11,  9.96it/s]\u001b[A\n",
      " 75%|███████▌  | 352/469 [00:36<00:11,  9.91it/s]\u001b[A\n",
      " 75%|███████▌  | 354/469 [00:36<00:11,  9.96it/s]\u001b[A\n",
      " 76%|███████▌  | 356/469 [00:36<00:11,  9.99it/s]\u001b[A\n",
      " 76%|███████▌  | 357/469 [00:36<00:11,  9.92it/s]\u001b[A\n",
      " 76%|███████▋  | 358/469 [00:37<00:11,  9.87it/s]\u001b[A\n",
      " 77%|███████▋  | 359/469 [00:37<00:14,  7.73it/s]\u001b[A\n",
      " 77%|███████▋  | 360/469 [00:37<00:13,  8.29it/s]\u001b[A\n",
      " 77%|███████▋  | 361/469 [00:37<00:12,  8.69it/s]\u001b[A\n",
      " 77%|███████▋  | 362/469 [00:37<00:11,  8.99it/s]\u001b[A\n",
      " 78%|███████▊  | 364/469 [00:37<00:11,  9.28it/s]\u001b[A\n",
      " 78%|███████▊  | 366/469 [00:37<00:10,  9.53it/s]\u001b[A\n",
      " 78%|███████▊  | 367/469 [00:38<00:10,  9.61it/s]\u001b[A\n",
      " 79%|███████▊  | 369/469 [00:38<00:10,  9.75it/s]\u001b[A\n",
      " 79%|███████▉  | 370/469 [00:38<00:10,  9.77it/s]\u001b[A\n",
      " 79%|███████▉  | 371/469 [00:38<00:10,  9.79it/s]\u001b[A\n",
      " 80%|███████▉  | 373/469 [00:38<00:09,  9.88it/s]\u001b[A\n",
      " 80%|███████▉  | 374/469 [00:38<00:09,  9.86it/s]\u001b[A\n",
      " 80%|████████  | 376/469 [00:38<00:09,  9.94it/s]\u001b[A\n",
      " 80%|████████  | 377/469 [00:39<00:09,  9.90it/s]\u001b[A\n",
      " 81%|████████  | 379/469 [00:39<00:09,  9.96it/s]\u001b[A\n",
      " 81%|████████  | 381/469 [00:39<00:08, 10.00it/s]\u001b[A\n",
      " 82%|████████▏ | 383/469 [00:39<00:08,  9.99it/s]\u001b[A\n",
      " 82%|████████▏ | 384/469 [00:39<00:08,  9.92it/s]\u001b[A\n",
      " 82%|████████▏ | 386/469 [00:39<00:08,  9.95it/s]\u001b[A\n",
      " 83%|████████▎ | 388/469 [00:40<00:08,  9.96it/s]\u001b[A\n",
      " 83%|████████▎ | 390/469 [00:40<00:07, 10.02it/s]\u001b[A\n",
      " 84%|████████▎ | 392/469 [00:40<00:07, 10.04it/s]\u001b[A\n",
      " 84%|████████▍ | 394/469 [00:40<00:07, 10.00it/s]\u001b[A\n",
      " 84%|████████▍ | 395/469 [00:40<00:07,  9.94it/s]\u001b[A\n",
      " 85%|████████▍ | 397/469 [00:41<00:07,  9.97it/s]\u001b[A\n",
      " 85%|████████▍ | 398/469 [00:41<00:07,  9.92it/s]\u001b[A\n",
      " 85%|████████▌ | 400/469 [00:41<00:06,  9.97it/s]\u001b[A\n",
      " 86%|████████▌ | 402/469 [00:41<00:06, 10.00it/s]\u001b[A\n",
      " 86%|████████▌ | 404/469 [00:41<00:06, 10.00it/s]\u001b[A\n",
      " 87%|████████▋ | 406/469 [00:41<00:06, 10.00it/s]\u001b[A\n",
      " 87%|████████▋ | 407/469 [00:42<00:06,  9.93it/s]\u001b[A\n",
      " 87%|████████▋ | 408/469 [00:42<00:06,  9.89it/s]\u001b[A\n",
      " 87%|████████▋ | 410/469 [00:42<00:05,  9.89it/s]\u001b[A\n",
      " 88%|████████▊ | 412/469 [00:42<00:05,  9.95it/s]\u001b[A\n",
      " 88%|████████▊ | 413/469 [00:42<00:05,  9.90it/s]\u001b[A\n",
      " 88%|████████▊ | 414/469 [00:42<00:07,  7.77it/s]\u001b[A\n",
      " 88%|████████▊ | 415/469 [00:42<00:06,  8.33it/s]\u001b[A\n",
      " 89%|████████▊ | 416/469 [00:43<00:06,  8.71it/s]\u001b[A\n",
      " 89%|████████▉ | 417/469 [00:43<00:05,  8.98it/s]\u001b[A\n",
      " 89%|████████▉ | 418/469 [00:43<00:05,  9.21it/s]\u001b[A\n",
      " 89%|████████▉ | 419/469 [00:43<00:06,  7.49it/s]\u001b[A\n",
      " 90%|████████▉ | 420/469 [00:43<00:06,  8.10it/s]\u001b[A\n",
      " 90%|████████▉ | 422/469 [00:43<00:05,  8.59it/s]\u001b[A\n",
      " 90%|█████████ | 423/469 [00:43<00:05,  8.97it/s]\u001b[A\n",
      " 90%|█████████ | 424/469 [00:43<00:04,  9.25it/s]\u001b[A\n",
      " 91%|█████████ | 425/469 [00:44<00:04,  9.44it/s]\u001b[A\n",
      " 91%|█████████ | 426/469 [00:44<00:04,  9.55it/s]\u001b[A\n",
      " 91%|█████████ | 427/469 [00:44<00:04,  9.63it/s]\u001b[A\n",
      " 91%|█████████▏| 429/469 [00:44<00:04,  9.72it/s]\u001b[A\n",
      " 92%|█████████▏| 431/469 [00:44<00:03,  9.83it/s]\u001b[A\n",
      " 92%|█████████▏| 433/469 [00:44<00:03,  9.92it/s]\u001b[A\n",
      " 93%|█████████▎| 434/469 [00:44<00:03,  9.88it/s]\u001b[A\n",
      " 93%|█████████▎| 436/469 [00:45<00:03,  9.94it/s]\u001b[A\n",
      " 93%|█████████▎| 437/469 [00:45<00:03,  9.89it/s]\u001b[A\n",
      " 94%|█████████▎| 439/469 [00:45<00:03,  9.96it/s]\u001b[A\n",
      " 94%|█████████▍| 440/469 [00:45<00:02,  9.89it/s]\u001b[A\n",
      " 94%|█████████▍| 442/469 [00:45<00:02,  9.94it/s]\u001b[A\n",
      " 95%|█████████▍| 444/469 [00:45<00:02, 10.00it/s]\u001b[A\n",
      " 95%|█████████▌| 446/469 [00:46<00:02, 10.01it/s]\u001b[A\n",
      " 96%|█████████▌| 448/469 [00:46<00:02, 10.00it/s]\u001b[A\n",
      " 96%|█████████▌| 450/469 [00:46<00:01, 10.01it/s]\u001b[A\n",
      " 96%|█████████▋| 452/469 [00:46<00:01, 10.01it/s]\u001b[A\n",
      " 97%|█████████▋| 454/469 [00:46<00:01, 10.01it/s]\u001b[A\n",
      " 97%|█████████▋| 456/469 [00:47<00:01, 10.00it/s]\u001b[A\n",
      " 98%|█████████▊| 458/469 [00:47<00:01, 10.00it/s]\u001b[A\n",
      " 98%|█████████▊| 460/469 [00:47<00:00,  9.96it/s]\u001b[A\n",
      " 99%|█████████▊| 462/469 [00:47<00:00, 10.02it/s]\u001b[A\n",
      " 99%|█████████▉| 464/469 [00:47<00:00, 10.03it/s]\u001b[A\n",
      " 99%|█████████▉| 466/469 [00:48<00:00, 10.00it/s]\u001b[A\n",
      "100%|█████████▉| 468/469 [00:48<00:00, 10.00it/s]\u001b[A\n",
      "100%|██████████| 469/469 [00:48<00:00,  9.69it/s]\u001b[A\n",
      "  0%|          | 0/469 [00:00<?, ?it/s]\u001b[A\n",
      "  0%|          | 1/469 [00:00<00:46,  9.96it/s]\u001b[A\n",
      "  0%|          | 2/469 [00:00<00:46,  9.95it/s]\u001b[A\n",
      "  1%|          | 4/469 [00:00<00:46, 10.02it/s]\u001b[A\n",
      "  1%|          | 5/469 [00:00<00:46,  9.99it/s]\u001b[A\n",
      "  1%|▏         | 6/469 [00:00<00:46,  9.94it/s]\u001b[A\n",
      "  2%|▏         | 8/469 [00:00<00:46,  9.99it/s]\u001b[A\n",
      "  2%|▏         | 10/469 [00:00<00:39, 11.61it/s]\u001b[A\n",
      "  3%|▎         | 12/469 [00:01<00:41, 11.09it/s]\u001b[A\n",
      "  3%|▎         | 14/469 [00:01<00:41, 10.85it/s]\u001b[A\n",
      "  3%|▎         | 16/469 [00:01<00:42, 10.58it/s]\u001b[A\n",
      "  4%|▍         | 18/469 [00:01<00:37, 12.16it/s]\u001b[A\n",
      "  4%|▍         | 20/469 [00:01<00:38, 11.54it/s]\u001b[A\n",
      "  5%|▍         | 22/469 [00:01<00:40, 11.05it/s]\u001b[A\n",
      "  5%|▌         | 24/469 [00:02<00:41, 10.72it/s]\u001b[A\n",
      "  6%|▌         | 26/469 [00:02<00:36, 12.26it/s]\u001b[A\n",
      "  6%|▌         | 28/469 [00:02<00:38, 11.60it/s]\u001b[A\n",
      "  6%|▋         | 30/469 [00:02<00:39, 11.11it/s]\u001b[A\n",
      "  7%|▋         | 32/469 [00:02<00:40, 10.76it/s]\u001b[A\n",
      "  7%|▋         | 34/469 [00:03<00:41, 10.52it/s]\u001b[A\n",
      "  8%|▊         | 36/469 [00:03<00:41, 10.37it/s]\u001b[A\n",
      "  8%|▊         | 38/469 [00:03<00:42, 10.25it/s]\u001b[A\n",
      "  9%|▊         | 40/469 [00:03<00:36, 11.83it/s]\u001b[A\n",
      "  9%|▉         | 42/469 [00:03<00:38, 11.23it/s]\u001b[A\n",
      "  9%|▉         | 44/469 [00:03<00:38, 10.95it/s]\u001b[A\n",
      " 10%|▉         | 46/469 [00:04<00:39, 10.64it/s]\u001b[A\n",
      " 10%|█         | 48/469 [00:04<00:34, 12.22it/s]\u001b[A\n",
      " 11%|█         | 50/469 [00:04<00:36, 11.48it/s]\u001b[A\n",
      " 11%|█         | 52/469 [00:04<00:37, 11.10it/s]\u001b[A\n",
      " 12%|█▏        | 54/469 [00:04<00:38, 10.74it/s]\u001b[A\n",
      " 12%|█▏        | 56/469 [00:05<00:39, 10.51it/s]\u001b[A\n",
      " 12%|█▏        | 58/469 [00:05<00:33, 12.10it/s]\u001b[A\n",
      " 13%|█▎        | 60/469 [00:05<00:36, 11.36it/s]\u001b[A\n",
      " 13%|█▎        | 62/469 [00:05<00:36, 11.05it/s]\u001b[A\n",
      " 14%|█▎        | 64/469 [00:05<00:37, 10.73it/s]\u001b[A\n",
      " 14%|█▍        | 66/469 [00:05<00:32, 12.28it/s]\u001b[A\n",
      " 14%|█▍        | 68/469 [00:06<00:34, 11.50it/s]\u001b[A\n",
      " 15%|█▍        | 70/469 [00:06<00:36, 11.00it/s]\u001b[A\n",
      " 15%|█▌        | 72/469 [00:06<00:37, 10.68it/s]\u001b[A\n",
      " 16%|█▌        | 74/469 [00:06<00:37, 10.58it/s]\u001b[A\n",
      " 16%|█▌        | 76/469 [00:06<00:37, 10.42it/s]\u001b[A\n",
      " 17%|█▋        | 78/469 [00:07<00:38, 10.29it/s]\u001b[A\n",
      " 17%|█▋        | 80/469 [00:07<00:32, 11.87it/s]\u001b[A\n",
      " 17%|█▋        | 82/469 [00:07<00:34, 11.27it/s]\u001b[A\n",
      " 18%|█▊        | 84/469 [00:07<00:35, 10.91it/s]\u001b[A\n",
      " 18%|█▊        | 86/469 [00:07<00:36, 10.63it/s]\u001b[A\n",
      " 19%|█▉        | 88/469 [00:07<00:36, 10.47it/s]\u001b[A\n",
      " 19%|█▉        | 90/469 [00:08<00:31, 12.05it/s]\u001b[A\n",
      " 20%|█▉        | 92/469 [00:08<00:33, 11.37it/s]\u001b[A\n",
      " 20%|██        | 94/469 [00:08<00:34, 10.96it/s]\u001b[A\n",
      " 20%|██        | 96/469 [00:08<00:34, 10.71it/s]\u001b[A\n",
      " 21%|██        | 98/469 [00:08<00:35, 10.39it/s]\u001b[A\n",
      " 21%|██▏       | 100/469 [00:09<00:35, 10.27it/s]\u001b[A\n",
      " 22%|██▏       | 102/469 [00:09<00:36, 10.18it/s]\u001b[A\n",
      " 22%|██▏       | 104/469 [00:09<00:36, 10.13it/s]\u001b[A\n",
      " 23%|██▎       | 106/469 [00:09<00:35, 10.09it/s]\u001b[A\n",
      " 23%|██▎       | 108/469 [00:09<00:35, 10.06it/s]\u001b[A\n",
      " 23%|██▎       | 110/469 [00:10<00:35, 10.03it/s]\u001b[A\n",
      " 24%|██▍       | 112/469 [00:10<00:40,  8.82it/s]\u001b[A\n",
      " 24%|██▍       | 113/469 [00:10<00:39,  9.11it/s]\u001b[A\n",
      " 24%|██▍       | 114/469 [00:10<00:38,  9.27it/s]\u001b[A\n",
      " 25%|██▍       | 116/469 [00:10<00:37,  9.50it/s]\u001b[A\n",
      " 25%|██▍       | 117/469 [00:10<00:46,  7.52it/s]\u001b[A\n",
      " 25%|██▌       | 118/469 [00:11<00:43,  8.12it/s]\u001b[A\n",
      " 25%|██▌       | 119/469 [00:11<00:40,  8.59it/s]\u001b[A\n",
      " 26%|██▌       | 120/469 [00:11<00:39,  8.88it/s]\u001b[A\n",
      " 26%|██▌       | 121/469 [00:11<00:47,  7.26it/s]\u001b[A\n",
      " 26%|██▌       | 122/469 [00:11<00:44,  7.84it/s]\u001b[A\n",
      " 26%|██▋       | 124/469 [00:11<00:41,  8.40it/s]\u001b[A\n",
      " 27%|██▋       | 126/469 [00:12<00:38,  8.84it/s]\u001b[A\n",
      " 27%|██▋       | 128/469 [00:12<00:37,  9.18it/s]\u001b[A\n",
      " 28%|██▊       | 129/469 [00:12<00:36,  9.27it/s]\u001b[A\n",
      " 28%|██▊       | 130/469 [00:12<00:45,  7.48it/s]\u001b[A\n",
      " 28%|██▊       | 131/469 [00:12<00:41,  8.07it/s]\u001b[A\n",
      " 28%|██▊       | 132/469 [00:12<00:39,  8.57it/s]\u001b[A\n",
      " 28%|██▊       | 133/469 [00:12<00:37,  8.94it/s]\u001b[A\n",
      " 29%|██▊       | 134/469 [00:12<00:36,  9.16it/s]\u001b[A\n",
      " 29%|██▉       | 135/469 [00:13<00:45,  7.40it/s]\u001b[A\n",
      " 29%|██▉       | 136/469 [00:13<00:41,  8.01it/s]\u001b[A\n",
      " 29%|██▉       | 137/469 [00:13<00:38,  8.52it/s]\u001b[A\n",
      " 29%|██▉       | 138/469 [00:13<00:37,  8.90it/s]\u001b[A\n",
      " 30%|██▉       | 139/469 [00:13<00:36,  9.14it/s]\u001b[A\n",
      " 30%|██▉       | 140/469 [00:13<00:44,  7.40it/s]\u001b[A\n",
      " 30%|███       | 141/469 [00:13<00:41,  7.96it/s]\u001b[A\n",
      " 30%|███       | 143/469 [00:13<00:38,  8.50it/s]\u001b[A\n",
      " 31%|███       | 144/469 [00:14<00:36,  8.82it/s]\u001b[A\n",
      " 31%|███       | 146/469 [00:14<00:35,  9.16it/s]\u001b[A\n",
      " 31%|███▏      | 147/469 [00:14<00:43,  7.38it/s]\u001b[A\n",
      " 32%|███▏      | 148/469 [00:14<00:40,  8.00it/s]\u001b[A\n",
      " 32%|███▏      | 149/469 [00:14<00:37,  8.49it/s]\u001b[A\n",
      " 32%|███▏      | 150/469 [00:14<00:36,  8.82it/s]\u001b[A\n",
      " 32%|███▏      | 151/469 [00:14<00:43,  7.24it/s]\u001b[A\n",
      " 32%|███▏      | 152/469 [00:15<00:40,  7.87it/s]\u001b[A\n",
      " 33%|███▎      | 153/469 [00:15<00:37,  8.35it/s]\u001b[A\n",
      " 33%|███▎      | 154/469 [00:15<00:44,  7.02it/s]\u001b[A\n",
      " 33%|███▎      | 155/469 [00:15<00:40,  7.69it/s]\u001b[A\n",
      " 33%|███▎      | 156/469 [00:15<00:38,  8.20it/s]\u001b[A\n",
      " 33%|███▎      | 157/469 [00:15<00:44,  6.94it/s]\u001b[A\n",
      " 34%|███▎      | 158/469 [00:15<00:40,  7.62it/s]\u001b[A\n",
      " 34%|███▍      | 160/469 [00:16<00:33,  9.26it/s]\u001b[A\n",
      " 35%|███▍      | 162/469 [00:16<00:32,  9.55it/s]\u001b[A\n",
      " 35%|███▍      | 164/469 [00:16<00:31,  9.71it/s]\u001b[A\n",
      " 35%|███▌      | 166/469 [00:16<00:30,  9.80it/s]\u001b[A\n",
      " 36%|███▌      | 168/469 [00:16<00:26, 11.42it/s]\u001b[A\n",
      " 36%|███▌      | 170/469 [00:16<00:27, 11.05it/s]\u001b[A\n",
      " 37%|███▋      | 172/469 [00:17<00:27, 10.75it/s]\u001b[A\n",
      " 37%|███▋      | 174/469 [00:17<00:28, 10.53it/s]\u001b[A\n",
      " 38%|███▊      | 176/469 [00:17<00:24, 12.08it/s]\u001b[A\n",
      " 38%|███▊      | 178/469 [00:17<00:25, 11.36it/s]\u001b[A\n",
      " 38%|███▊      | 180/469 [00:17<00:26, 10.93it/s]\u001b[A\n",
      " 39%|███▉      | 182/469 [00:18<00:26, 10.65it/s]\u001b[A\n",
      " 39%|███▉      | 184/469 [00:18<00:27, 10.54it/s]\u001b[A\n",
      " 40%|███▉      | 186/469 [00:18<00:27, 10.34it/s]\u001b[A\n",
      " 40%|████      | 188/469 [00:18<00:27, 10.28it/s]\u001b[A\n",
      " 41%|████      | 190/469 [00:18<00:23, 11.87it/s]\u001b[A\n",
      " 41%|████      | 192/469 [00:18<00:24, 11.28it/s]\u001b[A\n",
      " 41%|████▏     | 194/469 [00:19<00:25, 10.91it/s]\u001b[A\n",
      " 42%|████▏     | 196/469 [00:19<00:25, 10.60it/s]\u001b[A\n",
      " 42%|████▏     | 198/469 [00:19<00:25, 10.47it/s]\u001b[A\n",
      " 43%|████▎     | 200/469 [00:19<00:22, 12.05it/s]\u001b[A\n",
      " 43%|████▎     | 202/469 [00:19<00:23, 11.36it/s]\u001b[A\n",
      " 43%|████▎     | 204/469 [00:20<00:24, 10.91it/s]\u001b[A\n",
      " 44%|████▍     | 206/469 [00:20<00:24, 10.67it/s]\u001b[A\n",
      " 44%|████▍     | 208/469 [00:20<00:24, 10.54it/s]\u001b[A\n",
      " 45%|████▍     | 210/469 [00:20<00:24, 10.36it/s]\u001b[A\n",
      " 45%|████▌     | 212/469 [00:20<00:25, 10.27it/s]\u001b[A\n",
      " 46%|████▌     | 214/469 [00:20<00:21, 11.83it/s]\u001b[A\n",
      " 46%|████▌     | 216/469 [00:21<00:22, 11.22it/s]\u001b[A\n",
      " 46%|████▋     | 218/469 [00:21<00:22, 10.94it/s]\u001b[A\n",
      " 47%|████▋     | 220/469 [00:21<00:23, 10.67it/s]\u001b[A\n",
      " 47%|████▋     | 222/469 [00:21<00:23, 10.48it/s]\u001b[A\n",
      " 48%|████▊     | 224/469 [00:21<00:20, 12.03it/s]\u001b[A\n",
      " 48%|████▊     | 226/469 [00:21<00:21, 11.48it/s]\u001b[A\n",
      " 49%|████▊     | 228/469 [00:22<00:21, 10.99it/s]\u001b[A\n",
      " 49%|████▉     | 230/469 [00:22<00:22, 10.66it/s]\u001b[A\n",
      " 49%|████▉     | 232/469 [00:22<00:22, 10.49it/s]\u001b[A\n",
      " 50%|████▉     | 234/469 [00:22<00:19, 12.04it/s]\u001b[A\n",
      " 50%|█████     | 236/469 [00:22<00:20, 11.42it/s]\u001b[A\n",
      " 51%|█████     | 238/469 [00:23<00:20, 11.03it/s]\u001b[A\n",
      " 51%|█████     | 240/469 [00:23<00:18, 12.58it/s]\u001b[A\n",
      " 52%|█████▏    | 242/469 [00:23<00:19, 11.66it/s]\u001b[A\n",
      " 52%|█████▏    | 244/469 [00:23<00:20, 11.24it/s]\u001b[A\n",
      " 52%|█████▏    | 246/469 [00:23<00:20, 10.84it/s]\u001b[A\n",
      " 53%|█████▎    | 248/469 [00:23<00:17, 12.39it/s]\u001b[A\n",
      " 53%|█████▎    | 250/469 [00:24<00:18, 11.58it/s]\u001b[A\n",
      " 54%|█████▎    | 252/469 [00:24<00:19, 11.05it/s]\u001b[A\n",
      " 54%|█████▍    | 254/469 [00:24<00:20, 10.72it/s]\u001b[A\n",
      " 55%|█████▍    | 256/469 [00:24<00:20, 10.55it/s]\u001b[A\n",
      " 55%|█████▌    | 258/469 [00:24<00:20, 10.40it/s]\u001b[A\n",
      " 55%|█████▌    | 260/469 [00:25<00:20, 10.32it/s]\u001b[A\n",
      " 56%|█████▌    | 262/469 [00:25<00:17, 11.89it/s]\u001b[A\n",
      " 56%|█████▋    | 264/469 [00:25<00:18, 11.27it/s]\u001b[A\n",
      " 57%|█████▋    | 266/469 [00:25<00:18, 10.92it/s]\u001b[A\n",
      " 57%|█████▋    | 268/469 [00:25<00:18, 10.64it/s]\u001b[A\n",
      " 58%|█████▊    | 270/469 [00:25<00:18, 10.49it/s]\u001b[A\n",
      " 58%|█████▊    | 272/469 [00:26<00:16, 12.07it/s]\u001b[A\n",
      " 58%|█████▊    | 274/469 [00:26<00:17, 11.37it/s]\u001b[A\n",
      " 59%|█████▉    | 276/469 [00:26<00:17, 11.03it/s]\u001b[A\n",
      " 59%|█████▉    | 278/469 [00:26<00:17, 10.62it/s]\u001b[A\n",
      " 60%|█████▉    | 280/469 [00:26<00:18, 10.48it/s]\u001b[A\n",
      " 60%|██████    | 282/469 [00:27<00:18, 10.36it/s]\u001b[A\n",
      " 61%|██████    | 284/469 [00:27<00:18, 10.25it/s]\u001b[A\n",
      " 61%|██████    | 286/469 [00:27<00:17, 10.19it/s]\u001b[A\n",
      " 61%|██████▏   | 288/469 [00:27<00:15, 11.78it/s]\u001b[A\n",
      " 62%|██████▏   | 290/469 [00:27<00:16, 11.18it/s]\u001b[A\n",
      " 62%|██████▏   | 292/469 [00:28<00:16, 10.85it/s]\u001b[A\n",
      " 63%|██████▎   | 294/469 [00:28<00:16, 10.65it/s]\u001b[A\n",
      " 63%|██████▎   | 296/469 [00:28<00:14, 12.20it/s]\u001b[A\n",
      " 64%|██████▎   | 298/469 [00:28<00:14, 11.46it/s]\u001b[A\n",
      " 64%|██████▍   | 300/469 [00:28<00:15, 11.12it/s]\u001b[A\n",
      " 64%|██████▍   | 302/469 [00:28<00:15, 10.76it/s]\u001b[A\n",
      " 65%|██████▍   | 304/469 [00:29<00:13, 12.33it/s]\u001b[A\n",
      " 65%|██████▌   | 306/469 [00:29<00:14, 11.60it/s]\u001b[A\n",
      " 66%|██████▌   | 308/469 [00:29<00:14, 11.10it/s]\u001b[A\n",
      " 66%|██████▌   | 310/469 [00:29<00:14, 10.77it/s]\u001b[A\n",
      " 67%|██████▋   | 312/469 [00:29<00:14, 10.54it/s]\u001b[A\n",
      " 67%|██████▋   | 314/469 [00:29<00:12, 12.09it/s]\u001b[A\n",
      " 67%|██████▋   | 316/469 [00:30<00:13, 11.39it/s]\u001b[A\n",
      " 68%|██████▊   | 318/469 [00:30<00:15,  9.49it/s]\u001b[A\n",
      " 68%|██████▊   | 320/469 [00:30<00:15,  9.63it/s]\u001b[A\n",
      " 69%|██████▊   | 322/469 [00:30<00:15,  9.75it/s]\u001b[A\n",
      " 69%|██████▉   | 324/469 [00:30<00:12, 11.35it/s]\u001b[A\n",
      " 70%|██████▉   | 326/469 [00:31<00:12, 11.05it/s]\u001b[A\n",
      " 70%|██████▉   | 328/469 [00:31<00:13, 10.73it/s]\u001b[A\n",
      " 70%|███████   | 330/469 [00:31<00:11, 12.28it/s]\u001b[A\n",
      " 71%|███████   | 332/469 [00:31<00:11, 11.61it/s]\u001b[A\n",
      " 71%|███████   | 334/469 [00:31<00:12, 11.11it/s]\u001b[A\n",
      " 72%|███████▏  | 336/469 [00:31<00:10, 12.63it/s]\u001b[A\n",
      " 72%|███████▏  | 338/469 [00:32<00:11, 11.74it/s]\u001b[A\n",
      " 72%|███████▏  | 340/469 [00:32<00:11, 11.27it/s]\u001b[A\n",
      " 73%|███████▎  | 342/469 [00:32<00:11, 10.87it/s]\u001b[A\n",
      " 73%|███████▎  | 344/469 [00:32<00:10, 12.44it/s]\u001b[A\n",
      " 74%|███████▍  | 346/469 [00:32<00:10, 11.67it/s]\u001b[A\n",
      " 74%|███████▍  | 348/469 [00:33<00:10, 11.08it/s]\u001b[A\n",
      " 75%|███████▍  | 350/469 [00:33<00:11, 10.79it/s]\u001b[A\n",
      " 75%|███████▌  | 352/469 [00:33<00:11, 10.56it/s]\u001b[A\n",
      " 75%|███████▌  | 354/469 [00:33<00:11, 10.38it/s]\u001b[A\n",
      " 76%|███████▌  | 356/469 [00:33<00:09, 11.96it/s]\u001b[A\n",
      " 76%|███████▋  | 358/469 [00:33<00:09, 11.41it/s]\u001b[A\n",
      " 77%|███████▋  | 360/469 [00:34<00:09, 10.98it/s]\u001b[A\n",
      " 77%|███████▋  | 362/469 [00:34<00:08, 12.51it/s]\u001b[A\n",
      " 78%|███████▊  | 364/469 [00:34<00:09, 11.65it/s]\u001b[A\n",
      " 78%|███████▊  | 366/469 [00:34<00:09, 11.12it/s]\u001b[A\n",
      " 78%|███████▊  | 368/469 [00:34<00:09, 10.86it/s]\u001b[A\n",
      " 79%|███████▉  | 370/469 [00:34<00:09, 10.60it/s]\u001b[A\n",
      " 79%|███████▉  | 372/469 [00:35<00:07, 12.16it/s]\u001b[A\n",
      " 80%|███████▉  | 374/469 [00:35<00:08, 11.44it/s]\u001b[A\n",
      " 80%|████████  | 376/469 [00:35<00:08, 11.04it/s]\u001b[A\n",
      " 81%|████████  | 378/469 [00:35<00:08, 10.75it/s]\u001b[A\n",
      " 81%|████████  | 380/469 [00:35<00:07, 12.29it/s]\u001b[A\n",
      " 81%|████████▏ | 382/469 [00:36<00:07, 11.51it/s]\u001b[A\n",
      " 82%|████████▏ | 384/469 [00:36<00:08,  9.57it/s]\u001b[A\n",
      " 82%|████████▏ | 386/469 [00:36<00:07, 11.18it/s]\u001b[A\n",
      " 83%|████████▎ | 388/469 [00:36<00:07, 10.79it/s]\u001b[A\n",
      " 83%|████████▎ | 390/469 [00:36<00:07, 10.60it/s]\u001b[A\n",
      " 84%|████████▎ | 392/469 [00:36<00:07, 10.49it/s]\u001b[A\n",
      " 84%|████████▍ | 394/469 [00:37<00:06, 12.06it/s]\u001b[A\n",
      " 84%|████████▍ | 396/469 [00:37<00:06, 11.36it/s]\u001b[A\n",
      " 85%|████████▍ | 398/469 [00:37<00:06, 10.97it/s]\u001b[A\n",
      " 85%|████████▌ | 400/469 [00:37<00:06, 10.74it/s]\u001b[A\n",
      " 86%|████████▌ | 402/469 [00:37<00:05, 12.29it/s]\u001b[A\n",
      " 86%|████████▌ | 404/469 [00:38<00:05, 11.52it/s]\u001b[A\n",
      " 87%|████████▋ | 406/469 [00:38<00:05, 11.09it/s]\u001b[A\n",
      " 87%|████████▋ | 408/469 [00:38<00:05, 10.79it/s]\u001b[A\n",
      " 87%|████████▋ | 410/469 [00:38<00:05, 10.54it/s]\u001b[A\n",
      " 88%|████████▊ | 412/469 [00:38<00:04, 12.13it/s]\u001b[A\n",
      " 88%|████████▊ | 414/469 [00:38<00:04, 11.52it/s]\u001b[A\n",
      " 89%|████████▊ | 416/469 [00:39<00:04, 11.05it/s]\u001b[A\n",
      " 89%|████████▉ | 418/469 [00:39<00:04, 12.55it/s]\u001b[A\n",
      " 90%|████████▉ | 420/469 [00:39<00:04, 11.71it/s]\u001b[A\n",
      " 90%|████████▉ | 422/469 [00:39<00:04, 11.17it/s]\u001b[A\n",
      " 90%|█████████ | 424/469 [00:39<00:04, 10.85it/s]\u001b[A\n",
      " 91%|█████████ | 426/469 [00:39<00:04, 10.60it/s]\u001b[A\n",
      " 91%|█████████▏| 428/469 [00:40<00:03, 12.15it/s]\u001b[A\n",
      " 92%|█████████▏| 430/469 [00:40<00:03, 11.53it/s]\u001b[A\n",
      " 92%|█████████▏| 432/469 [00:40<00:03, 11.06it/s]\u001b[A\n",
      " 93%|█████████▎| 434/469 [00:40<00:03, 10.72it/s]\u001b[A\n",
      " 93%|█████████▎| 436/469 [00:40<00:02, 12.29it/s]\u001b[A\n",
      " 93%|█████████▎| 438/469 [00:41<00:02, 11.57it/s]\u001b[A\n",
      " 94%|█████████▍| 440/469 [00:41<00:02, 11.11it/s]\u001b[A\n",
      " 94%|█████████▍| 442/469 [00:41<00:02, 12.66it/s]\u001b[A\n",
      " 95%|█████████▍| 444/469 [00:41<00:02, 11.71it/s]\u001b[A\n",
      " 95%|█████████▌| 446/469 [00:41<00:02, 11.27it/s]\u001b[A\n",
      " 96%|█████████▌| 448/469 [00:41<00:01, 12.78it/s]\u001b[A\n",
      " 96%|█████████▌| 450/469 [00:41<00:01, 11.96it/s]\u001b[A\n",
      " 96%|█████████▋| 452/469 [00:42<00:01, 11.30it/s]\u001b[A\n",
      " 97%|█████████▋| 454/469 [00:42<00:01, 12.79it/s]\u001b[A\n",
      " 97%|█████████▋| 456/469 [00:42<00:01, 11.81it/s]\u001b[A\n",
      " 98%|█████████▊| 458/469 [00:42<00:00, 11.33it/s]\u001b[A\n",
      " 98%|█████████▊| 460/469 [00:42<00:00, 10.87it/s]\u001b[A\n",
      " 99%|█████████▊| 462/469 [00:43<00:00, 10.64it/s]\u001b[A\n",
      " 99%|█████████▉| 464/469 [00:43<00:00, 12.20it/s]\u001b[A\n",
      " 99%|█████████▉| 466/469 [00:43<00:00, 11.46it/s]\u001b[A\n",
      "100%|█████████▉| 468/469 [00:43<00:00, 11.10it/s]\u001b[A\n",
      "100%|██████████| 469/469 [00:43<00:00, 10.73it/s]\u001b[A"
     ]
    },
    {
     "name": "stdout",
     "output_type": "stream",
     "text": [
      "('accuracy', 0.83615)\n"
     ]
    }
   ],
   "source": [
    "train(network, train_dataloader)\n",
    "metric = calculate_accuracy(network, test_dataloader)\n",
    "print(metric.get())"
   ]
  },
  {
   "cell_type": "markdown",
   "metadata": {
    "deletable": false,
    "editable": false,
    "nbgrader": {
     "cell_type": "markdown",
     "checksum": "aae608960225ca66817116e7e18a9247",
     "grade": false,
     "grade_id": "cell-b4bb794993da124b",
     "locked": true,
     "schema_version": 3,
     "solution": false,
     "task": false
    }
   },
   "source": [
    "You're final objective in this assignment is to try a different architecture that uses convolutional and max pooling layers. You should define another sequential network, but this time it should have 5 layers in total:\n",
    "\n",
    "1. Convolutional Layer (32 channels, 3x3 kernel and ReLU activation)\n",
    "2. Max Pooling Layer (2x2 kernel and 2x2 stride)\n",
    "3. Convolutional Layer (16 channels, 3x3 kernel and ReLU activation)\n",
    "4. Max Pooling Layer (2x2 kernel and 2x2 stride)\n",
    "5. Dense Layer (10 output units)"
   ]
  },
  {
   "cell_type": "code",
   "execution_count": 249,
   "metadata": {
    "deletable": false,
    "nbgrader": {
     "cell_type": "code",
     "checksum": "a2da3d4d690016aa9b1fddafe7c9f4c5",
     "grade": false,
     "grade_id": "cell-27362e76af20b586",
     "locked": false,
     "schema_version": 3,
     "solution": true,
     "task": false
    }
   },
   "outputs": [],
   "source": [
    "# YOUR CODE HERE\n",
    "network = nn.Sequential()\n",
    "network.add(nn.Conv2D(32, kernel_size=(3,3), activation = 'relu'))\n",
    "network.add(nn.MaxPool2D(pool_size=(2,2), strides = (2,2)))\n",
    "network.add(nn.Conv2D(16, kernel_size=(3,3), activation = 'relu'))\n",
    "network.add(nn.MaxPool2D(pool_size=(2,2), strides = (2,2)))\n",
    "network.add(nn.Dense(10))\n",
    "#raise NotImplementedError()"
   ]
  },
  {
   "cell_type": "code",
   "execution_count": 250,
   "metadata": {
    "deletable": false,
    "editable": false,
    "nbgrader": {
     "cell_type": "code",
     "checksum": "658f43b3f172cefd8a416f9143c0cc9a",
     "grade": true,
     "grade_id": "cell-f6d99cca56b03a4c",
     "locked": true,
     "points": 2,
     "schema_version": 3,
     "solution": false,
     "task": false
    }
   },
   "outputs": [],
   "source": [
    "assert isinstance(network, mx.gluon.nn.Sequential)\n",
    "assert len(network) == 5\n",
    "assert isinstance(network[0], mx.gluon.nn.Conv2D)\n",
    "assert network[0].act.name.endswith('relu')\n",
    "assert network[0].weight.shape[0] == 32\n",
    "assert isinstance(network[1], mx.gluon.nn.MaxPool2D)\n",
    "assert isinstance(network[2], mx.gluon.nn.Conv2D)\n",
    "assert network[2].act.name.endswith('relu')\n",
    "assert network[2].weight.shape[0] == 16\n",
    "assert isinstance(network[3], mx.gluon.nn.MaxPool2D)\n",
    "assert isinstance(network[4], mx.gluon.nn.Dense)\n",
    "assert network[4].act is None\n",
    "assert network[4].weight.shape[0] == 10"
   ]
  },
  {
   "cell_type": "markdown",
   "metadata": {
    "deletable": false,
    "editable": false,
    "nbgrader": {
     "cell_type": "markdown",
     "checksum": "59680071ae46fddcb37e07b965fc9dbc",
     "grade": false,
     "grade_id": "cell-7aba8aa6bd98797e",
     "locked": true,
     "schema_version": 3,
     "solution": false,
     "task": false
    }
   },
   "source": [
    "Let's initialize the parameters of the network, and show a summary of the network architecture.\n",
    "\n",
    "With 8954 trainable parameters, this network's got 30% fewer parameters than the previous network."
   ]
  },
  {
   "cell_type": "code",
   "execution_count": 251,
   "metadata": {
    "deletable": false,
    "editable": false,
    "nbgrader": {
     "cell_type": "code",
     "checksum": "226a74a762a411b9a6ec985a7b3b4d02",
     "grade": false,
     "grade_id": "cell-5b9ad1023c066bbe",
     "locked": true,
     "schema_version": 3,
     "solution": false,
     "task": false
    }
   },
   "outputs": [
    {
     "name": "stdout",
     "output_type": "stream",
     "text": [
      "--------------------------------------------------------------------------------\n",
      "        Layer (type)                                Output Shape         Param #\n",
      "================================================================================\n",
      "               Input                           (1024, 1, 28, 28)               0\n",
      "        Activation-1                     <Symbol conv2_relu_fwd>               0\n",
      "        Activation-2                          (1024, 32, 26, 26)               0\n",
      "            Conv2D-3                          (1024, 32, 26, 26)             320\n",
      "         MaxPool2D-4                          (1024, 32, 13, 13)               0\n",
      "        Activation-5                     <Symbol conv3_relu_fwd>               0\n",
      "        Activation-6                          (1024, 16, 11, 11)               0\n",
      "            Conv2D-7                          (1024, 16, 11, 11)            4624\n",
      "         MaxPool2D-8                            (1024, 16, 5, 5)               0\n",
      "             Dense-9                                  (1024, 10)            4010\n",
      "================================================================================\n",
      "Parameters in forward computation graph, duplicate included\n",
      "   Total params: 8954\n",
      "   Trainable params: 8954\n",
      "   Non-trainable params: 0\n",
      "Shared params in forward computation graph: 0\n",
      "Unique parameters in model: 8954\n",
      "--------------------------------------------------------------------------------\n"
     ]
    }
   ],
   "source": [
    "network.initialize(init=initializer)\n",
    "network.summary(data)"
   ]
  },
  {
   "cell_type": "markdown",
   "metadata": {
    "deletable": false,
    "editable": false,
    "nbgrader": {
     "cell_type": "markdown",
     "checksum": "9c93f40630de025d96f78ca5df6f8b0a",
     "grade": false,
     "grade_id": "cell-3b2f9d639c371864",
     "locked": true,
     "schema_version": 3,
     "solution": false,
     "task": false
    }
   },
   "source": [
    "And finally, let's evaluate the network performance."
   ]
  },
  {
   "cell_type": "code",
   "execution_count": null,
   "metadata": {
    "deletable": false,
    "editable": false,
    "nbgrader": {
     "cell_type": "code",
     "checksum": "797450f201e5b58137770b5afbcdde27",
     "grade": false,
     "grade_id": "cell-6a0bbef7dab7fc86",
     "locked": true,
     "schema_version": 3,
     "solution": false,
     "task": false
    }
   },
   "outputs": [],
   "source": [
    "train(network, train_dataloader)\n",
    "metric = calculate_accuracy(network, test_dataloader)\n",
    "print(metric.get())"
   ]
  },
  {
   "cell_type": "markdown",
   "metadata": {
    "deletable": false,
    "editable": false,
    "nbgrader": {
     "cell_type": "markdown",
     "checksum": "daac204b6befa96b9d1ceb3883b7dffb",
     "grade": false,
     "grade_id": "cell-9a3e6f798eaeb49b",
     "locked": true,
     "schema_version": 3,
     "solution": false,
     "task": false
    }
   },
   "source": [
    "We're only training for a single epoch here. You'd expect to get improved accuracy if training for more epochs. "
   ]
  }
 ],
 "metadata": {
  "coursera": {
   "assignment_name": "module_4",
   "assignment_version": 2,
   "course_slug": "aws-computer-vision-gluoncv",
   "graded_item_id": "FoZrl",
   "launcher_item_id": "vcm0m"
  },
  "kernelspec": {
   "display_name": "Python 3",
   "language": "python",
   "name": "python3"
  },
  "language_info": {
   "codemirror_mode": {
    "name": "ipython",
    "version": 3
   },
   "file_extension": ".py",
   "mimetype": "text/x-python",
   "name": "python",
   "nbconvert_exporter": "python",
   "pygments_lexer": "ipython3",
   "version": "3.7.3"
  }
 },
 "nbformat": 4,
 "nbformat_minor": 1
}
